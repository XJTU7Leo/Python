{
 "cells": [
  {
   "cell_type": "markdown",
   "source": [
    "# 9 Pandas分组与聚合"
   ],
   "metadata": {
    "collapsed": false
   }
  },
  {
   "cell_type": "code",
   "execution_count": 1,
   "outputs": [
    {
     "name": "stdout",
     "output_type": "stream",
     "text": [
      "  key1   key2     data1     data2\n",
      "0    a    one  0.790819 -0.551726\n",
      "1    b    one  2.328619  0.302788\n",
      "2    a    two -3.114707  1.484679\n",
      "3    b  three -1.427779 -0.874004\n",
      "4    a    two  0.117080 -0.244159\n",
      "5    b    two  0.964935 -0.872349\n",
      "6    a    one -0.302208 -0.296385\n",
      "7    a  three -1.151873 -0.845638\n"
     ]
    }
   ],
   "source": [
    "import pandas as pd\n",
    "import numpy as np\n",
    "dict_obj = {'key1' : ['a', 'b', 'a', 'b',\n",
    "                      'a', 'b', 'a', 'a'],\n",
    "            'key2' : ['one', 'one', 'two', 'three',\n",
    "                      'two', 'two', 'one', 'three'],\n",
    "            'data1': np.random.randn(8),\n",
    "            'data2': np.random.randn(8)}\n",
    "df_obj = pd.DataFrame(dict_obj)\n",
    "\n",
    "print(df_obj) #两列是字符串，两列是数值"
   ],
   "metadata": {
    "collapsed": false,
    "pycharm": {
     "name": "#%%\n"
    },
    "ExecuteTime": {
     "end_time": "2024-07-08T02:01:03.339816400Z",
     "start_time": "2024-07-08T02:01:02.696742300Z"
    }
   }
  },
  {
   "cell_type": "code",
   "execution_count": 2,
   "outputs": [
    {
     "name": "stdout",
     "output_type": "stream",
     "text": [
      "<pandas.core.groupby.generic.DataFrameGroupBy object at 0x000001FB18F645F0>\n",
      "<class 'pandas.core.groupby.generic.DataFrameGroupBy'>\n"
     ]
    }
   ],
   "source": [
    "# dataframe根据key1进行分组，分组后的对象类型\n",
    "# 不进行聚合操作拿到的只是groupby的对象\n",
    "print(df_obj.groupby('key1'))\n",
    "print(type(df_obj.groupby('key1')))"
   ],
   "metadata": {
    "collapsed": false,
    "pycharm": {
     "name": "#%%\n"
    },
    "ExecuteTime": {
     "end_time": "2024-07-08T02:01:28.538005900Z",
     "start_time": "2024-07-08T02:01:28.494409700Z"
    }
   }
  },
  {
   "cell_type": "code",
   "execution_count": 3,
   "outputs": [
    {
     "name": "stdout",
     "output_type": "stream",
     "text": [
      "a\n",
      "  key1   key2     data1     data2\n",
      "0    a    one  0.790819 -0.551726\n",
      "2    a    two -3.114707  1.484679\n",
      "4    a    two  0.117080 -0.244159\n",
      "6    a    one -0.302208 -0.296385\n",
      "7    a  three -1.151873 -0.845638\n",
      "b\n",
      "  key1   key2     data1     data2\n",
      "1    b    one  2.328619  0.302788\n",
      "3    b  three -1.427779 -0.874004\n",
      "5    b    two  0.964935 -0.872349\n"
     ]
    }
   ],
   "source": [
    "group1=df_obj.groupby('key1')\n",
    "for name,group in group1: # 遍历分组\n",
    "    print(name)\n",
    "    print(group)"
   ],
   "metadata": {
    "collapsed": false,
    "ExecuteTime": {
     "end_time": "2024-07-08T02:02:09.284050Z",
     "start_time": "2024-07-08T02:02:09.252973900Z"
    }
   }
  },
  {
   "cell_type": "code",
   "execution_count": 4,
   "outputs": [
    {
     "name": "stdout",
     "output_type": "stream",
     "text": [
      "0    0.790819\n",
      "1    2.328619\n",
      "2   -3.114707\n",
      "3   -1.427779\n",
      "4    0.117080\n",
      "5    0.964935\n",
      "6   -0.302208\n",
      "7   -1.151873\n",
      "Name: data1, dtype: float64\n",
      "--------------------------------------------------\n",
      "<class 'pandas.core.groupby.generic.SeriesGroupBy'>\n"
     ]
    }
   ],
   "source": [
    "print(df_obj['data1'])\n",
    "# dataframe的 data1 列根据 key1 进行分组\n",
    "print('-'*50)\n",
    "print(type(df_obj['data1'].groupby(df_obj['key1'])))"
   ],
   "metadata": {
    "collapsed": false,
    "pycharm": {
     "name": "#%%\n"
    },
    "ExecuteTime": {
     "end_time": "2024-07-08T02:04:29.206724500Z",
     "start_time": "2024-07-08T02:04:29.161517100Z"
    }
   }
  },
  {
   "cell_type": "code",
   "execution_count": 6,
   "outputs": [
    {
     "name": "stdout",
     "output_type": "stream",
     "text": [
      "         data1     data2\n",
      "key1                    \n",
      "a    -0.732178 -0.090646\n",
      "b     0.621925 -0.481188\n",
      "--------------------------------------------------\n",
      "key1\n",
      "a   -0.732178\n",
      "b    0.621925\n",
      "Name: data1, dtype: float64\n"
     ]
    }
   ],
   "source": [
    "# 分组运算\n",
    "grouped1 = df_obj.groupby('key1')\n",
    "print(grouped1.mean(numeric_only=True)) #不是数值类型的不会算均值\n",
    "print('-'*50)\n",
    "grouped2 = df_obj['data1'].groupby(df_obj['key1'])\n",
    "print(grouped2.mean())\n"
   ],
   "metadata": {
    "collapsed": false,
    "pycharm": {
     "name": "#%%\n"
    },
    "ExecuteTime": {
     "end_time": "2024-07-08T02:08:23.396600300Z",
     "start_time": "2024-07-08T02:08:23.360129200Z"
    }
   }
  },
  {
   "cell_type": "markdown",
   "source": [
    "### 9.1.3 按自定义的key分组（不重要，无需掌握）"
   ],
   "metadata": {
    "collapsed": false
   }
  },
  {
   "cell_type": "code",
   "execution_count": null,
   "outputs": [],
   "source": [
    "# # 按自定义key分组，列表\n",
    "self_def_key = [0, 1, 2, 3, 3, 3, 5, 7]\n",
    "print(df_obj.groupby(self_def_key).size())  #等于mysql的count\n",
    "print(df_obj.groupby(self_def_key).sum())"
   ],
   "metadata": {
    "collapsed": false,
    "pycharm": {
     "name": "#%%\n"
    }
   }
  },
  {
   "cell_type": "code",
   "execution_count": null,
   "outputs": [],
   "source": [
    "# 按自定义key分组，多层列表\n",
    "print(df_obj.groupby([df_obj['key1'], df_obj['key2']]).size())\n",
    "\n",
    "# # 按多个列多层分组\n",
    "print('-'*50)\n",
    "grouped2 = df_obj.groupby(['key1', 'key2'])\n",
    "print(grouped2.size())"
   ],
   "metadata": {
    "collapsed": false,
    "pycharm": {
     "name": "#%%\n"
    }
   }
  },
  {
   "cell_type": "code",
   "execution_count": 5,
   "outputs": [
    {
     "name": "stdout",
     "output_type": "stream",
     "text": [
      "--------------------------------------------------\n",
      "key2   key1\n",
      "one    a       2\n",
      "       b       1\n",
      "three  a       1\n",
      "       b       1\n",
      "two    a       2\n",
      "       b       1\n",
      "dtype: int64\n",
      "<class 'pandas.core.series.Series'>\n",
      "               data1     data2\n",
      "key2  key1                    \n",
      "one   a    -0.790356 -0.654034\n",
      "      b    -0.079730 -0.387669\n",
      "three a     0.532789  0.685627\n",
      "      b     0.740374 -0.376233\n",
      "two   a     0.365328 -0.912014\n",
      "      b    -0.027914  0.919135\n"
     ]
    }
   ],
   "source": [
    "# # 多层分组按key的顺序进行\n",
    "print('-'*50)\n",
    "grouped3 = df_obj.groupby(['key2', 'key1'])\n",
    "print(grouped3.size()) #series,类似mysql的count\n",
    "print(type(grouped3.size()))\n",
    "print(grouped3.mean())"
   ],
   "metadata": {
    "collapsed": false,
    "pycharm": {
     "name": "#%%\n"
    }
   }
  },
  {
   "cell_type": "code",
   "execution_count": 6,
   "outputs": [
    {
     "name": "stdout",
     "output_type": "stream",
     "text": [
      "MultiIndex([(  'one', 'a'),\n",
      "            (  'one', 'b'),\n",
      "            ('three', 'a'),\n",
      "            ('three', 'b'),\n",
      "            (  'two', 'a'),\n",
      "            (  'two', 'b')],\n",
      "           names=['key2', 'key1'])\n"
     ]
    }
   ],
   "source": [
    "print(grouped3.mean().index)"
   ],
   "metadata": {
    "collapsed": false,
    "pycharm": {
     "name": "#%%\n"
    }
   }
  },
  {
   "cell_type": "code",
   "execution_count": 7,
   "outputs": [
    {
     "name": "stdout",
     "output_type": "stream",
     "text": [
      "          data1               data2          \n",
      "key1          a         b         a         b\n",
      "key2                                         \n",
      "one   -0.790356 -0.079730 -0.654034 -0.387669\n",
      "three  0.532789  0.740374  0.685627 -0.376233\n",
      "two    0.365328 -0.027914 -0.912014  0.919135\n",
      "MultiIndex([('data1', 'a'),\n",
      "            ('data1', 'b'),\n",
      "            ('data2', 'a'),\n",
      "            ('data2', 'b')],\n",
      "           names=[None, 'key1'])\n"
     ]
    }
   ],
   "source": [
    "# unstack可以将多层索引的结果转换成单层的dataframe\n",
    "print(grouped3.mean().unstack())  #竖变横,只能变为列索引的最大的索引\n",
    "print(grouped3.mean().unstack().columns)"
   ],
   "metadata": {
    "collapsed": false,
    "pycharm": {
     "name": "#%%\n"
    }
   }
  },
  {
   "cell_type": "code",
   "execution_count": 8,
   "outputs": [
    {
     "name": "stdout",
     "output_type": "stream",
     "text": [
      "('one', 'a')\n",
      "  key1 key2     data1     data2\n",
      "0    a  one -0.319450 -2.084581\n",
      "6    a  one -1.261263  0.776513\n",
      "<class 'pandas.core.frame.DataFrame'>\n",
      "('one', 'b')\n",
      "  key1 key2    data1     data2\n",
      "1    b  one -0.07973 -0.387669\n",
      "<class 'pandas.core.frame.DataFrame'>\n",
      "('three', 'a')\n",
      "  key1   key2     data1     data2\n",
      "7    a  three  0.532789  0.685627\n",
      "<class 'pandas.core.frame.DataFrame'>\n",
      "('three', 'b')\n",
      "  key1   key2     data1     data2\n",
      "3    b  three  0.740374 -0.376233\n",
      "<class 'pandas.core.frame.DataFrame'>\n",
      "('two', 'a')\n",
      "  key1 key2     data1     data2\n",
      "2    a  two  0.884913 -1.122358\n",
      "4    a  two -0.154258 -0.701669\n",
      "<class 'pandas.core.frame.DataFrame'>\n",
      "('two', 'b')\n",
      "  key1 key2     data1     data2\n",
      "5    b  two -0.027914  0.919135\n",
      "<class 'pandas.core.frame.DataFrame'>\n"
     ]
    }
   ],
   "source": [
    "# # 多层分组，根据key1 和 key2，做个性化处理\n",
    "for group_name, group_data in grouped3:\n",
    "    print(group_name)\n",
    "    print(group_data)\n",
    "    print(type(group_data))"
   ],
   "metadata": {
    "collapsed": false,
    "pycharm": {
     "name": "#%%\n"
    }
   }
  },
  {
   "cell_type": "code",
   "execution_count": null,
   "outputs": [],
   "source": [
    "list(grouped3)"
   ],
   "metadata": {
    "collapsed": false,
    "pycharm": {
     "name": "#%%\n"
    }
   }
  },
  {
   "cell_type": "markdown",
   "source": [
    "## 9.3 按类型分组(不重要，自行查看)"
   ],
   "metadata": {
    "collapsed": false
   }
  },
  {
   "cell_type": "code",
   "execution_count": null,
   "outputs": [],
   "source": [
    "print(df_obj.dtypes)"
   ],
   "metadata": {
    "collapsed": false,
    "pycharm": {
     "name": "#%%\n"
    }
   }
  },
  {
   "cell_type": "code",
   "execution_count": null,
   "outputs": [],
   "source": [
    "#一列数据类型必须一致，因为现实生活中一个特征类型是一致的\n",
    "df_obj['data3']=df_obj['data2']+1\n",
    "print(df_obj)\n",
    "print(df_obj.groupby(df_obj.dtypes, axis=1).size())#按轴0没有意义\n",
    "print(df_obj.groupby(df_obj.dtypes, axis=1).sum())"
   ],
   "metadata": {
    "collapsed": false,
    "pycharm": {
     "name": "#%%\n"
    }
   }
  },
  {
   "cell_type": "code",
   "execution_count": null,
   "outputs": [],
   "source": [
    "#这里是自定义的列索引，用的不错\n",
    "self_column_key=[1,2,3,3,4]\n",
    "print(df_obj.groupby(self_column_key, axis=1).sum())   #通过自定义索引去让不同列相加"
   ],
   "metadata": {
    "collapsed": false,
    "pycharm": {
     "name": "#%%\n"
    }
   }
  },
  {
   "cell_type": "markdown",
   "source": [
    "### 2. 通过字典分组(不重要，自行查看)"
   ],
   "metadata": {
    "collapsed": false
   }
  },
  {
   "cell_type": "code",
   "execution_count": null,
   "outputs": [],
   "source": [
    "df_obj2 = pd.DataFrame(np.random.randint(1, 10, (5,5)),\n",
    "                       columns=['a', 'b', 'c', 'd', 'e'],\n",
    "                       index=['A', 'B', 'C', 'D', 'E'])\n",
    "# 给指定某个部分的数据重新赋值为 np.NaN\n",
    "df_obj2.loc['B','b':'d']=np.NAN\n",
    "\n",
    "print(df_obj2)\n",
    "# 通过字典分组\n",
    "mapping_dict = {'a':'Python', 'b':'Python', 'c':'Java', 'd':'C', 'e':'Java'}\n",
    "print(df_obj2.groupby(mapping_dict, axis=1).size())\n",
    "print(df_obj2.groupby(mapping_dict, axis=1).count()) # df内部值非NaN的个数\n",
    "print(df_obj2.groupby(mapping_dict, axis=1).sum())  #求和不记录nan,nan当为0\n"
   ],
   "metadata": {
    "collapsed": false,
    "pycharm": {
     "name": "#%%\n"
    }
   }
  },
  {
   "cell_type": "code",
   "execution_count": null,
   "outputs": [],
   "source": [
    "str1='熊大'"
   ],
   "metadata": {
    "collapsed": false,
    "pycharm": {
     "name": "#%%\n"
    }
   }
  },
  {
   "cell_type": "code",
   "execution_count": null,
   "outputs": [],
   "source": [
    "str1[0]"
   ],
   "metadata": {
    "collapsed": false,
    "pycharm": {
     "name": "#%%\n"
    }
   }
  },
  {
   "cell_type": "code",
   "execution_count": null,
   "outputs": [],
   "source": [
    "# 通过函数分组\n",
    "df_obj3 = pd.DataFrame(np.random.randint(1, 10, (5,5)),\n",
    "                       columns=['a', 'b', 'c', 'd', 'ee'],\n",
    "                       index=['AA', 'BBBB', 'CC', 'D', 'EE'])\n",
    "#df_obj3\n",
    "\n",
    "def group_key(idx):\n",
    "    \"\"\"\n",
    "        idx 为列索引或行索引，默认为行索引 axis=0,传入行索引，轴为1，传入列索引\n",
    "    \"\"\"\n",
    "    #return idx\n",
    "    return len(idx)\n",
    "print(df_obj3)\n",
    "print(df_obj3.groupby(group_key,axis=0).size())\n",
    "\n",
    "# 以上自定义函数等价于\n",
    "df_obj3.groupby(len).size()\n"
   ],
   "metadata": {
    "collapsed": false,
    "pycharm": {
     "name": "#%%\n"
    }
   }
  },
  {
   "cell_type": "code",
   "execution_count": null,
   "outputs": [],
   "source": [
    "# 通过索引级别分组，可以指定某个级别进行分组\n",
    "columns = pd.MultiIndex.from_arrays([['Python', 'Java', 'Python', 'Java', 'Python'],\n",
    "                                     ['A', 'A', 'B', 'C', 'B']],\n",
    "                                    names=['language', 'index1'])\n",
    "df_obj4 = pd.DataFrame(np.random.randint(1, 10, (5, 5)), columns=columns)\n",
    "print(df_obj4)\n",
    "\n",
    "# 根据language进行分组\n",
    "print(df_obj4.groupby(level='language', axis=1).sum())\n",
    "# 根据index进行分组\n",
    "print(df_obj4.groupby(level='index1', axis=1).sum())\n"
   ],
   "metadata": {
    "collapsed": false,
    "pycharm": {
     "name": "#%%\n"
    }
   }
  },
  {
   "cell_type": "markdown",
   "source": [
    "## 9.4 聚合\n"
   ],
   "metadata": {
    "collapsed": false
   }
  },
  {
   "cell_type": "code",
   "execution_count": 7,
   "outputs": [],
   "source": [
    "import pandas as pd\n",
    "import numpy as np"
   ],
   "metadata": {
    "collapsed": false,
    "pycharm": {
     "name": "#%%\n"
    },
    "ExecuteTime": {
     "end_time": "2024-07-08T02:10:48.160733800Z",
     "start_time": "2024-07-08T02:10:48.143229200Z"
    }
   }
  },
  {
   "cell_type": "code",
   "execution_count": 8,
   "outputs": [
    {
     "name": "stdout",
     "output_type": "stream",
     "text": [
      "      data1  data2\n",
      "key1              \n",
      "a        28     23\n",
      "b        15     12\n",
      "      data1  data2\n",
      "key1              \n",
      "a         9      7\n",
      "b         7      6\n"
     ]
    }
   ],
   "source": [
    "dict_obj = {'key1' : ['a', 'b', 'a', 'b',\n",
    "                      'a', 'b', 'a', 'a'],\n",
    "            # 'key2' : ['one', 'one', 'two', 'three',\n",
    "            #           'two', 'two', 'one', 'three'],\n",
    "            'data1': np.random.randint(1,10, 8),\n",
    "            'data2': np.random.randint(1,10, 8)}\n",
    "df_obj=pd.DataFrame(dict_obj)\n",
    "print(df_obj.loc[:,['key1','data1','data2']].groupby(\"key1\").sum())\n",
    "print(df_obj.loc[:,['key1','data1','data2']].groupby(\"key1\").max())\n"
   ],
   "metadata": {
    "collapsed": false,
    "pycharm": {
     "name": "#%%\n"
    },
    "ExecuteTime": {
     "end_time": "2024-07-08T02:10:51.550640200Z",
     "start_time": "2024-07-08T02:10:51.526015500Z"
    }
   }
  },
  {
   "cell_type": "code",
   "execution_count": 9,
   "outputs": [
    {
     "name": "stdout",
     "output_type": "stream",
     "text": [
      "      data1  data2\n",
      "key1              \n",
      "a         2      2\n",
      "b         1      3\n",
      "--------------------------------------------------\n",
      "      data1  data2\n",
      "key1              \n",
      "a       5.6    4.6\n",
      "b       5.0    4.0\n",
      "--------------------------------------------------\n"
     ]
    },
    {
     "data": {
      "text/plain": "     data1                                         data2                      \\\n     count mean       std  min  25%  50%  75%  max count mean       std  min   \nkey1                                                                           \na      5.0  5.6  2.701851  2.0  4.0  6.0  7.0  9.0   5.0  4.6  1.949359  2.0   \nb      3.0  5.0  3.464102  1.0  4.0  7.0  7.0  7.0   3.0  4.0  1.732051  3.0   \n\n                          \n      25%  50%  75%  max  \nkey1                      \na     4.0  4.0  6.0  7.0  \nb     3.0  3.0  4.5  6.0  ",
      "text/html": "<div>\n<style scoped>\n    .dataframe tbody tr th:only-of-type {\n        vertical-align: middle;\n    }\n\n    .dataframe tbody tr th {\n        vertical-align: top;\n    }\n\n    .dataframe thead tr th {\n        text-align: left;\n    }\n\n    .dataframe thead tr:last-of-type th {\n        text-align: right;\n    }\n</style>\n<table border=\"1\" class=\"dataframe\">\n  <thead>\n    <tr>\n      <th></th>\n      <th colspan=\"8\" halign=\"left\">data1</th>\n      <th colspan=\"8\" halign=\"left\">data2</th>\n    </tr>\n    <tr>\n      <th></th>\n      <th>count</th>\n      <th>mean</th>\n      <th>std</th>\n      <th>min</th>\n      <th>25%</th>\n      <th>50%</th>\n      <th>75%</th>\n      <th>max</th>\n      <th>count</th>\n      <th>mean</th>\n      <th>std</th>\n      <th>min</th>\n      <th>25%</th>\n      <th>50%</th>\n      <th>75%</th>\n      <th>max</th>\n    </tr>\n    <tr>\n      <th>key1</th>\n      <th></th>\n      <th></th>\n      <th></th>\n      <th></th>\n      <th></th>\n      <th></th>\n      <th></th>\n      <th></th>\n      <th></th>\n      <th></th>\n      <th></th>\n      <th></th>\n      <th></th>\n      <th></th>\n      <th></th>\n      <th></th>\n    </tr>\n  </thead>\n  <tbody>\n    <tr>\n      <th>a</th>\n      <td>5.0</td>\n      <td>5.6</td>\n      <td>2.701851</td>\n      <td>2.0</td>\n      <td>4.0</td>\n      <td>6.0</td>\n      <td>7.0</td>\n      <td>9.0</td>\n      <td>5.0</td>\n      <td>4.6</td>\n      <td>1.949359</td>\n      <td>2.0</td>\n      <td>4.0</td>\n      <td>4.0</td>\n      <td>6.0</td>\n      <td>7.0</td>\n    </tr>\n    <tr>\n      <th>b</th>\n      <td>3.0</td>\n      <td>5.0</td>\n      <td>3.464102</td>\n      <td>1.0</td>\n      <td>4.0</td>\n      <td>7.0</td>\n      <td>7.0</td>\n      <td>7.0</td>\n      <td>3.0</td>\n      <td>4.0</td>\n      <td>1.732051</td>\n      <td>3.0</td>\n      <td>3.0</td>\n      <td>3.0</td>\n      <td>4.5</td>\n      <td>6.0</td>\n    </tr>\n  </tbody>\n</table>\n</div>"
     },
     "execution_count": 9,
     "metadata": {},
     "output_type": "execute_result"
    }
   ],
   "source": [
    "print(df_obj.loc[:,['key1','data1','data2']].groupby(\"key1\").min())\n",
    "print('-'*50)\n",
    "#平均值\n",
    "print(df_obj.loc[:,['key1','data1','data2']].groupby(\"key1\").mean())\n",
    "print('-'*50)\n",
    "df_obj.groupby(\"key1\").describe() #非常有用"
   ],
   "metadata": {
    "collapsed": false,
    "ExecuteTime": {
     "end_time": "2024-07-08T02:11:39.468105500Z",
     "start_time": "2024-07-08T02:11:39.382904600Z"
    }
   }
  },
  {
   "cell_type": "code",
   "execution_count": 10,
   "outputs": [
    {
     "data": {
      "text/plain": "key1     b\ndata1    9\ndata2    7\ndtype: object"
     },
     "execution_count": 10,
     "metadata": {},
     "output_type": "execute_result"
    }
   ],
   "source": [
    "df_obj.max()"
   ],
   "metadata": {
    "collapsed": false,
    "ExecuteTime": {
     "end_time": "2024-07-08T02:17:54.901288Z",
     "start_time": "2024-07-08T02:17:54.797660900Z"
    }
   }
  },
  {
   "cell_type": "code",
   "execution_count": 13,
   "outputs": [
    {
     "data": {
      "text/plain": "  key1  data1  data2\n0    a      7      4\n1    b      7      3\n2    a      6      2\n3    b      1      6\n4    a      4      4\n5    b      7      3\n6    a      2      7\n7    a      9      6",
      "text/html": "<div>\n<style scoped>\n    .dataframe tbody tr th:only-of-type {\n        vertical-align: middle;\n    }\n\n    .dataframe tbody tr th {\n        vertical-align: top;\n    }\n\n    .dataframe thead th {\n        text-align: right;\n    }\n</style>\n<table border=\"1\" class=\"dataframe\">\n  <thead>\n    <tr style=\"text-align: right;\">\n      <th></th>\n      <th>key1</th>\n      <th>data1</th>\n      <th>data2</th>\n    </tr>\n  </thead>\n  <tbody>\n    <tr>\n      <th>0</th>\n      <td>a</td>\n      <td>7</td>\n      <td>4</td>\n    </tr>\n    <tr>\n      <th>1</th>\n      <td>b</td>\n      <td>7</td>\n      <td>3</td>\n    </tr>\n    <tr>\n      <th>2</th>\n      <td>a</td>\n      <td>6</td>\n      <td>2</td>\n    </tr>\n    <tr>\n      <th>3</th>\n      <td>b</td>\n      <td>1</td>\n      <td>6</td>\n    </tr>\n    <tr>\n      <th>4</th>\n      <td>a</td>\n      <td>4</td>\n      <td>4</td>\n    </tr>\n    <tr>\n      <th>5</th>\n      <td>b</td>\n      <td>7</td>\n      <td>3</td>\n    </tr>\n    <tr>\n      <th>6</th>\n      <td>a</td>\n      <td>2</td>\n      <td>7</td>\n    </tr>\n    <tr>\n      <th>7</th>\n      <td>a</td>\n      <td>9</td>\n      <td>6</td>\n    </tr>\n  </tbody>\n</table>\n</div>"
     },
     "execution_count": 13,
     "metadata": {},
     "output_type": "execute_result"
    }
   ],
   "source": [
    "df_obj"
   ],
   "metadata": {
    "collapsed": false,
    "ExecuteTime": {
     "end_time": "2024-07-08T02:19:15.180801Z",
     "start_time": "2024-07-08T02:19:15.126333700Z"
    }
   }
  },
  {
   "cell_type": "markdown",
   "source": [
    "# 自定义聚合函数"
   ],
   "metadata": {
    "collapsed": false
   }
  },
  {
   "cell_type": "code",
   "execution_count": 11,
   "outputs": [
    {
     "name": "stdout",
     "output_type": "stream",
     "text": [
      "  key1  data1  data2\n",
      "0    a      7      4\n",
      "1    b      7      3\n",
      "2    a      6      2\n",
      "3    b      1      6\n",
      "4    a      4      4\n",
      "5    b      7      3\n",
      "6    a      2      7\n",
      "7    a      9      6\n",
      "--------------------------------------------------\n",
      "      data1  data2\n",
      "key1              \n",
      "a         7      5\n",
      "b         6      3\n",
      "--------------------------------------------------\n",
      "      data1  data2\n",
      "key1              \n",
      "a         7      5\n",
      "b         6      3\n"
     ]
    }
   ],
   "source": [
    "\n",
    "df_obj5 = pd.DataFrame(dict_obj)\n",
    "print(df_obj5)\n",
    "\n",
    "def peak_range(df):\n",
    "    \"\"\"\n",
    "        返回数值范围,df参数是groupby后的 那一组的dataframe\n",
    "    \"\"\"\n",
    "    #print type(df) #参数为索引所对应的记录\n",
    "    return df.max() - df.min()\n",
    "#求极值\n",
    "print('-'*50)\n",
    "print(df_obj5.loc[:,['key1','data1','data2']].groupby('key1').agg(peak_range))\n",
    "print('-'*50)\n",
    "print(df_obj5.loc[:,['key1','data1','data2']].groupby('key1').agg(lambda df : df.max() - df.min()))"
   ],
   "metadata": {
    "collapsed": false,
    "pycharm": {
     "name": "#%%\n"
    },
    "ExecuteTime": {
     "end_time": "2024-07-08T02:18:19.217562Z",
     "start_time": "2024-07-08T02:18:19.014441300Z"
    }
   }
  },
  {
   "cell_type": "code",
   "execution_count": 12,
   "outputs": [
    {
     "name": "stdout",
     "output_type": "stream",
     "text": [
      "     data1                            data2                           \n",
      "      mean       std count peak_range  mean       std count peak_range\n",
      "key1                                                                  \n",
      "a      5.6  2.701851     5          7   4.6  1.949359     5          5\n",
      "b      5.0  3.464102     3          6   4.0  1.732051     3          3\n"
     ]
    }
   ],
   "source": [
    "# 同时应用多个聚合函数\n",
    "print(df_obj.groupby('key1').agg(['mean', 'std', 'count', peak_range]))"
   ],
   "metadata": {
    "collapsed": false,
    "pycharm": {
     "name": "#%%\n"
    },
    "ExecuteTime": {
     "end_time": "2024-07-08T02:18:43.807256500Z",
     "start_time": "2024-07-08T02:18:43.753508800Z"
    }
   }
  },
  {
   "cell_type": "code",
   "execution_count": 14,
   "outputs": [
    {
     "name": "stdout",
     "output_type": "stream",
     "text": [
      "      data1  data2\n",
      "key1              \n",
      "a       5.6      5\n",
      "b       5.0      3\n"
     ]
    }
   ],
   "source": [
    "# 每列作用不同的聚合函数\n",
    "dict_mapping = {'data1':'mean',\n",
    "                'data2':'count'}\n",
    "print(df_obj.groupby('key1').agg(dict_mapping))\n"
   ],
   "metadata": {
    "collapsed": false,
    "pycharm": {
     "name": "#%%\n"
    },
    "ExecuteTime": {
     "end_time": "2024-07-08T02:19:59.599186700Z",
     "start_time": "2024-07-08T02:19:59.580048900Z"
    }
   }
  },
  {
   "cell_type": "markdown",
   "source": [
    "# 星巴克全球开店"
   ],
   "metadata": {
    "collapsed": false
   }
  },
  {
   "cell_type": "code",
   "execution_count": 17,
   "outputs": [
    {
     "name": "stdout",
     "output_type": "stream",
     "text": [
      "<class 'pandas.core.frame.DataFrame'>\n",
      "RangeIndex: 25600 entries, 0 to 25599\n",
      "Data columns (total 13 columns):\n",
      " #   Column          Non-Null Count  Dtype  \n",
      "---  ------          --------------  -----  \n",
      " 0   Brand           25600 non-null  object \n",
      " 1   Store Number    25600 non-null  object \n",
      " 2   Store Name      25600 non-null  object \n",
      " 3   Ownership Type  25600 non-null  object \n",
      " 4   Street Address  25598 non-null  object \n",
      " 5   City            25585 non-null  object \n",
      " 6   State/Province  25600 non-null  object \n",
      " 7   Country         25600 non-null  object \n",
      " 8   Postcode        24078 non-null  object \n",
      " 9   Phone Number    18739 non-null  object \n",
      " 10  Timezone        25600 non-null  object \n",
      " 11  Longitude       25599 non-null  float64\n",
      " 12  Latitude        25599 non-null  float64\n",
      "dtypes: float64(2), object(11)\n",
      "memory usage: 2.5+ MB\n",
      "None\n"
     ]
    },
    {
     "data": {
      "text/plain": "array([    1,   144,   108,    18,    22,     3,     4,    19,     5,\n          21,     5,     4,   102,    10,  1468,    61,    96,  2734,\n          11,    11,     3,    10,    28,   160,    21,    31,   101,\n           8,   132,   901,    28,     7,    16,   268,    73,    88,\n          17,  1237,     4,   993,   106,     8,    29,     2,     9,\n           2,   579,   234,    59,    17,    24,    12,     5,    89,\n         298,    53,    24,    11,    18,    27,   109,   102,    18,\n         130,     3,    11,   289,   326,     3,   394, 13608,    25,\n           3], dtype=int64)"
     },
     "execution_count": 17,
     "metadata": {},
     "output_type": "execute_result"
    }
   ],
   "source": [
    "import pandas as pd\n",
    "import numpy as np\n",
    "\n",
    "file_path = \"./starbucks_store_worldwide.csv\"\n",
    "\n",
    "df = pd.read_csv(file_path)\n",
    "\n",
    "print(df.info())  #数据总体有一个把控\n",
    "grouped=df.groupby(by='Country')\n",
    "grouped.size().values"
   ],
   "metadata": {
    "collapsed": false,
    "pycharm": {
     "name": "#%%\n"
    },
    "ExecuteTime": {
     "end_time": "2024-07-08T02:21:55.112044900Z",
     "start_time": "2024-07-08T02:21:54.941315800Z"
    }
   }
  },
  {
   "cell_type": "code",
   "execution_count": 16,
   "outputs": [
    {
     "data": {
      "text/plain": "       Brand  Store Number     Store Name Ownership Type     Street Address  \\\n0  Starbucks  47370-257954  Meritxell, 96       Licensed  Av. Meritxell, 96   \n\n               City State/Province Country Postcode Phone Number  \\\n0  Andorra la Vella              7      AD    AD500    376818720   \n\n                  Timezone  Longitude  Latitude  \n0  GMT+1:00 Europe/Andorra       1.53     42.51  ",
      "text/html": "<div>\n<style scoped>\n    .dataframe tbody tr th:only-of-type {\n        vertical-align: middle;\n    }\n\n    .dataframe tbody tr th {\n        vertical-align: top;\n    }\n\n    .dataframe thead th {\n        text-align: right;\n    }\n</style>\n<table border=\"1\" class=\"dataframe\">\n  <thead>\n    <tr style=\"text-align: right;\">\n      <th></th>\n      <th>Brand</th>\n      <th>Store Number</th>\n      <th>Store Name</th>\n      <th>Ownership Type</th>\n      <th>Street Address</th>\n      <th>City</th>\n      <th>State/Province</th>\n      <th>Country</th>\n      <th>Postcode</th>\n      <th>Phone Number</th>\n      <th>Timezone</th>\n      <th>Longitude</th>\n      <th>Latitude</th>\n    </tr>\n  </thead>\n  <tbody>\n    <tr>\n      <th>0</th>\n      <td>Starbucks</td>\n      <td>47370-257954</td>\n      <td>Meritxell, 96</td>\n      <td>Licensed</td>\n      <td>Av. Meritxell, 96</td>\n      <td>Andorra la Vella</td>\n      <td>7</td>\n      <td>AD</td>\n      <td>AD500</td>\n      <td>376818720</td>\n      <td>GMT+1:00 Europe/Andorra</td>\n      <td>1.53</td>\n      <td>42.51</td>\n    </tr>\n  </tbody>\n</table>\n</div>"
     },
     "execution_count": 16,
     "metadata": {},
     "output_type": "execute_result"
    }
   ],
   "source": [
    "df.head(1)"
   ],
   "metadata": {
    "collapsed": false,
    "ExecuteTime": {
     "end_time": "2024-07-08T02:21:38.535234500Z",
     "start_time": "2024-07-08T02:21:38.438772300Z"
    }
   }
  },
  {
   "cell_type": "code",
   "execution_count": 18,
   "outputs": [
    {
     "name": "stdout",
     "output_type": "stream",
     "text": [
      "13608\n",
      "2734\n"
     ]
    }
   ],
   "source": [
    "#任取一列求count，也可以用country列自身\n",
    "country_count = grouped[\"Brand\"].count()\n",
    "print(country_count[\"US\"])\n",
    "print(country_count[\"CN\"])"
   ],
   "metadata": {
    "collapsed": false,
    "pycharm": {
     "name": "#%%\n"
    },
    "ExecuteTime": {
     "end_time": "2024-07-08T02:41:52.400166700Z",
     "start_time": "2024-07-08T02:41:52.378531400Z"
    }
   }
  },
  {
   "cell_type": "code",
   "execution_count": 19,
   "outputs": [
    {
     "data": {
      "text/plain": "<BarContainer object of 31 artists>"
     },
     "execution_count": 19,
     "metadata": {},
     "output_type": "execute_result"
    },
    {
     "data": {
      "text/plain": "<Figure size 1600x800 with 1 Axes>",
      "image/png": "[encoded data removed]"
     },
     "metadata": {},
     "output_type": "display_data"
    }
   ],
   "source": [
    "#中国不同省份的星巴克数量，图像绘制\n",
    "import matplotlib.pyplot as plt\n",
    "country_cn=df[df['Country']=='CN']\n",
    "china_province=country_cn.groupby(by=\"State/Province\").count()['Brand'].sort_values(ascending=False) #中国不同省份的星巴克数量，降序排序\n",
    "plt.figure(figsize=(20,10),dpi=80)\n",
    "# print(type(china_province))\n",
    "# print(china_province.index)\n",
    "plt.bar(china_province.index,china_province.values)"
   ],
   "metadata": {
    "collapsed": false,
    "pycharm": {
     "name": "#%%\n"
    },
    "ExecuteTime": {
     "end_time": "2024-07-08T02:43:39.094305800Z",
     "start_time": "2024-07-08T02:43:37.620308100Z"
    }
   }
  },
  {
   "cell_type": "code",
   "execution_count": 23,
   "outputs": [
    {
     "data": {
      "text/plain": "Brand              object\nStore Number       object\nStore Name         object\nOwnership Type     object\nStreet Address     object\nCity               object\nState/Province     object\nCountry            object\nPostcode           object\nPhone Number       object\nTimezone           object\nLongitude         float64\nLatitude          float64\ndtype: object"
     },
     "execution_count": 23,
     "metadata": {},
     "output_type": "execute_result"
    }
   ],
   "source": [
    "country_cn.dtypes"
   ],
   "metadata": {
    "collapsed": false,
    "pycharm": {
     "name": "#%%\n"
    }
   }
  },
  {
   "cell_type": "code",
   "execution_count": 21,
   "outputs": [
    {
     "data": {
      "text/plain": "          Brand  Store Number                         Store Name  \\\n3062  Starbucks  48862-265746          Changshu Fangta Street-GF   \n3063  Starbucks  48238-258108  CZ Wujin Kaia Lomo Plaza Store-GF   \n3064  Starbucks  26608-244608        Nanjing Sun Palace Store-GF   \n3065  Starbucks  48586-263487  NT Haimen Zhongnan Plaza Store-GF   \n3066  Starbucks  49404-268987    NT Rudong wenfeng Dept Store-GF   \n...         ...           ...                                ...   \n3411  Starbucks  24743-238567                          镇江丹阳吾悦广场店   \n3412  Starbucks  24065-234944                            丹阳金鹰天地店   \n3413  Starbucks  24740-238713                         泰州靖江泰和国际城店   \n3414  Starbucks  24336-236945                         泰州靖江文峰大世界店   \n3415  Starbucks  47324-257587                          扬州高邮世贸广场店   \n\n     Ownership Type                               Street Address       City  \\\n3062  Joint Venture              Fangta Street and HeDong Street   Changshu   \n3063  Joint Venture  Huayuan St & Yongsheng Road, Wujin District  Changzhou   \n3064  Joint Venture                    No.3 yangguang Rd, Xuanwu    Nanjing   \n3065  Joint Venture    Zhangjian Avenue&Nanhai Road, Haimen City    Nantong   \n3066  Joint Venture              No.19 North Qingyuan Rd, Rudong    Nantong   \n...             ...                                          ...        ...   \n3411  Joint Venture                     丹阳市开发区, 新民东路99号10#-102铺位        镇江市   \n3412  Joint Venture                                  丹阳市, 金鹰天地广场        镇江市   \n3413  Joint Venture                           车站路77号泰和国际城C1-01铺位        靖江市   \n3414  Joint Venture                  人民北路1号文峰大世界1层1-2单元, 通湖路333号        靖江市   \n3415  Joint Venture            江苏省扬州高邮市, 世贸广场一层A005/A006/A1015铺位        高邮市   \n\n     State/Province Country Postcode Phone Number                Timezone  \\\n3062             32      CN   215500          NaN  GMT+08:00 Asia/Beijing   \n3063             32      CN   213000          NaN  GMT+08:00 Asia/Beijing   \n3064             32      CN   210000          NaN  GMT+08:00 Asia/Beijing   \n3065             32      CN   226000          NaN  GMT+08:00 Asia/Beijing   \n3066             32      CN   226000          NaN  GMT+08:00 Asia/Beijing   \n...             ...     ...      ...          ...                     ...   \n3411             32      CN      NaN          NaN  GMT+08:00 Asia/Beijing   \n3412             32      CN   212300          NaN  GMT+08:00 Asia/Beijing   \n3413             32      CN   214500          NaN  GMT+08:00 Asia/Beijing   \n3414             32      CN   214500          NaN  GMT+08:00 Asia/Beijing   \n3415             32      CN   225600          NaN  GMT+08:00 Asia/Beijing   \n\n      Longitude  Latitude  \n3062     120.75     31.64  \n3063     119.95     31.69  \n3064     118.81     32.06  \n3065     121.17     31.88  \n3066     121.18     32.31  \n...         ...       ...  \n3411     119.61     32.00  \n3412     119.58     31.99  \n3413     120.26     32.01  \n3414     120.27     32.02  \n3415     119.46     32.79  \n\n[354 rows x 13 columns]",
      "text/html": "<div>\n<style scoped>\n    .dataframe tbody tr th:only-of-type {\n        vertical-align: middle;\n    }\n\n    .dataframe tbody tr th {\n        vertical-align: top;\n    }\n\n    .dataframe thead th {\n        text-align: right;\n    }\n</style>\n<table border=\"1\" class=\"dataframe\">\n  <thead>\n    <tr style=\"text-align: right;\">\n      <th></th>\n      <th>Brand</th>\n      <th>Store Number</th>\n      <th>Store Name</th>\n      <th>Ownership Type</th>\n      <th>Street Address</th>\n      <th>City</th>\n      <th>State/Province</th>\n      <th>Country</th>\n      <th>Postcode</th>\n      <th>Phone Number</th>\n      <th>Timezone</th>\n      <th>Longitude</th>\n      <th>Latitude</th>\n    </tr>\n  </thead>\n  <tbody>\n    <tr>\n      <th>3062</th>\n      <td>Starbucks</td>\n      <td>48862-265746</td>\n      <td>Changshu Fangta Street-GF</td>\n      <td>Joint Venture</td>\n      <td>Fangta Street and HeDong Street</td>\n      <td>Changshu</td>\n      <td>32</td>\n      <td>CN</td>\n      <td>215500</td>\n      <td>NaN</td>\n      <td>GMT+08:00 Asia/Beijing</td>\n      <td>120.75</td>\n      <td>31.64</td>\n    </tr>\n    <tr>\n      <th>3063</th>\n      <td>Starbucks</td>\n      <td>48238-258108</td>\n      <td>CZ Wujin Kaia Lomo Plaza Store-GF</td>\n      <td>Joint Venture</td>\n      <td>Huayuan St &amp; Yongsheng Road, Wujin District</td>\n      <td>Changzhou</td>\n      <td>32</td>\n      <td>CN</td>\n      <td>213000</td>\n      <td>NaN</td>\n      <td>GMT+08:00 Asia/Beijing</td>\n      <td>119.95</td>\n      <td>31.69</td>\n    </tr>\n    <tr>\n      <th>3064</th>\n      <td>Starbucks</td>\n      <td>26608-244608</td>\n      <td>Nanjing Sun Palace Store-GF</td>\n      <td>Joint Venture</td>\n      <td>No.3 yangguang Rd, Xuanwu</td>\n      <td>Nanjing</td>\n      <td>32</td>\n      <td>CN</td>\n      <td>210000</td>\n      <td>NaN</td>\n      <td>GMT+08:00 Asia/Beijing</td>\n      <td>118.81</td>\n      <td>32.06</td>\n    </tr>\n    <tr>\n      <th>3065</th>\n      <td>Starbucks</td>\n      <td>48586-263487</td>\n      <td>NT Haimen Zhongnan Plaza Store-GF</td>\n      <td>Joint Venture</td>\n      <td>Zhangjian Avenue&amp;Nanhai Road, Haimen City</td>\n      <td>Nantong</td>\n      <td>32</td>\n      <td>CN</td>\n      <td>226000</td>\n      <td>NaN</td>\n      <td>GMT+08:00 Asia/Beijing</td>\n      <td>121.17</td>\n      <td>31.88</td>\n    </tr>\n    <tr>\n      <th>3066</th>\n      <td>Starbucks</td>\n      <td>49404-268987</td>\n      <td>NT Rudong wenfeng Dept Store-GF</td>\n      <td>Joint Venture</td>\n      <td>No.19 North Qingyuan Rd, Rudong</td>\n      <td>Nantong</td>\n      <td>32</td>\n      <td>CN</td>\n      <td>226000</td>\n      <td>NaN</td>\n      <td>GMT+08:00 Asia/Beijing</td>\n      <td>121.18</td>\n      <td>32.31</td>\n    </tr>\n    <tr>\n      <th>...</th>\n      <td>...</td>\n      <td>...</td>\n      <td>...</td>\n      <td>...</td>\n      <td>...</td>\n      <td>...</td>\n      <td>...</td>\n      <td>...</td>\n      <td>...</td>\n      <td>...</td>\n      <td>...</td>\n      <td>...</td>\n      <td>...</td>\n    </tr>\n    <tr>\n      <th>3411</th>\n      <td>Starbucks</td>\n      <td>24743-238567</td>\n      <td>镇江丹阳吾悦广场店</td>\n      <td>Joint Venture</td>\n      <td>丹阳市开发区, 新民东路99号10#-102铺位</td>\n      <td>镇江市</td>\n      <td>32</td>\n      <td>CN</td>\n      <td>NaN</td>\n      <td>NaN</td>\n      <td>GMT+08:00 Asia/Beijing</td>\n      <td>119.61</td>\n      <td>32.00</td>\n    </tr>\n    <tr>\n      <th>3412</th>\n      <td>Starbucks</td>\n      <td>24065-234944</td>\n      <td>丹阳金鹰天地店</td>\n      <td>Joint Venture</td>\n      <td>丹阳市, 金鹰天地广场</td>\n      <td>镇江市</td>\n      <td>32</td>\n      <td>CN</td>\n      <td>212300</td>\n      <td>NaN</td>\n      <td>GMT+08:00 Asia/Beijing</td>\n      <td>119.58</td>\n      <td>31.99</td>\n    </tr>\n    <tr>\n      <th>3413</th>\n      <td>Starbucks</td>\n      <td>24740-238713</td>\n      <td>泰州靖江泰和国际城店</td>\n      <td>Joint Venture</td>\n      <td>车站路77号泰和国际城C1-01铺位</td>\n      <td>靖江市</td>\n      <td>32</td>\n      <td>CN</td>\n      <td>214500</td>\n      <td>NaN</td>\n      <td>GMT+08:00 Asia/Beijing</td>\n      <td>120.26</td>\n      <td>32.01</td>\n    </tr>\n    <tr>\n      <th>3414</th>\n      <td>Starbucks</td>\n      <td>24336-236945</td>\n      <td>泰州靖江文峰大世界店</td>\n      <td>Joint Venture</td>\n      <td>人民北路1号文峰大世界1层1-2单元, 通湖路333号</td>\n      <td>靖江市</td>\n      <td>32</td>\n      <td>CN</td>\n      <td>214500</td>\n      <td>NaN</td>\n      <td>GMT+08:00 Asia/Beijing</td>\n      <td>120.27</td>\n      <td>32.02</td>\n    </tr>\n    <tr>\n      <th>3415</th>\n      <td>Starbucks</td>\n      <td>47324-257587</td>\n      <td>扬州高邮世贸广场店</td>\n      <td>Joint Venture</td>\n      <td>江苏省扬州高邮市, 世贸广场一层A005/A006/A1015铺位</td>\n      <td>高邮市</td>\n      <td>32</td>\n      <td>CN</td>\n      <td>225600</td>\n      <td>NaN</td>\n      <td>GMT+08:00 Asia/Beijing</td>\n      <td>119.46</td>\n      <td>32.79</td>\n    </tr>\n  </tbody>\n</table>\n<p>354 rows × 13 columns</p>\n</div>"
     },
     "execution_count": 21,
     "metadata": {},
     "output_type": "execute_result"
    }
   ],
   "source": [
    "country_cn[country_cn['State/Province']=='32']\n"
   ],
   "metadata": {
    "collapsed": false,
    "pycharm": {
     "name": "#%%\n"
    },
    "ExecuteTime": {
     "end_time": "2024-07-08T02:45:53.854975600Z",
     "start_time": "2024-07-08T02:45:53.655700700Z"
    }
   }
  },
  {
   "cell_type": "code",
   "execution_count": 22,
   "outputs": [
    {
     "data": {
      "text/plain": "                        Brand\nCountry State/Province       \nAD      7                   1\nAE      AJ                  2\n        AZ                 48\n        DU                 82\n        FU                  2\n...                       ...\nUS      WV                 25\n        WY                 23\nVN      HN                  6\n        SG                 19\nZA      GT                  3\n\n[545 rows x 1 columns]",
      "text/html": "<div>\n<style scoped>\n    .dataframe tbody tr th:only-of-type {\n        vertical-align: middle;\n    }\n\n    .dataframe tbody tr th {\n        vertical-align: top;\n    }\n\n    .dataframe thead th {\n        text-align: right;\n    }\n</style>\n<table border=\"1\" class=\"dataframe\">\n  <thead>\n    <tr style=\"text-align: right;\">\n      <th></th>\n      <th></th>\n      <th>Brand</th>\n    </tr>\n    <tr>\n      <th>Country</th>\n      <th>State/Province</th>\n      <th></th>\n    </tr>\n  </thead>\n  <tbody>\n    <tr>\n      <th>AD</th>\n      <th>7</th>\n      <td>1</td>\n    </tr>\n    <tr>\n      <th rowspan=\"4\" valign=\"top\">AE</th>\n      <th>AJ</th>\n      <td>2</td>\n    </tr>\n    <tr>\n      <th>AZ</th>\n      <td>48</td>\n    </tr>\n    <tr>\n      <th>DU</th>\n      <td>82</td>\n    </tr>\n    <tr>\n      <th>FU</th>\n      <td>2</td>\n    </tr>\n    <tr>\n      <th>...</th>\n      <th>...</th>\n      <td>...</td>\n    </tr>\n    <tr>\n      <th rowspan=\"2\" valign=\"top\">US</th>\n      <th>WV</th>\n      <td>25</td>\n    </tr>\n    <tr>\n      <th>WY</th>\n      <td>23</td>\n    </tr>\n    <tr>\n      <th rowspan=\"2\" valign=\"top\">VN</th>\n      <th>HN</th>\n      <td>6</td>\n    </tr>\n    <tr>\n      <th>SG</th>\n      <td>19</td>\n    </tr>\n    <tr>\n      <th>ZA</th>\n      <th>GT</th>\n      <td>3</td>\n    </tr>\n  </tbody>\n</table>\n<p>545 rows × 1 columns</p>\n</div>"
     },
     "execution_count": 22,
     "metadata": {},
     "output_type": "execute_result"
    }
   ],
   "source": [
    "grouped1 = df[[\"Brand\"]].groupby(by=[df[\"Country\"], df[\"State/Province\"]]).count()\n",
    "grouped1"
   ],
   "metadata": {
    "collapsed": false,
    "pycharm": {
     "name": "#%%\n"
    },
    "ExecuteTime": {
     "end_time": "2024-07-08T02:46:33.378860600Z",
     "start_time": "2024-07-08T02:46:33.337502800Z"
    }
   }
  },
  {
   "cell_type": "code",
   "execution_count": 25,
   "outputs": [
    {
     "data": {
      "text/plain": "MultiIndex([('AD',  '7'),\n            ('AE', 'AJ'),\n            ('AE', 'AZ'),\n            ('AE', 'DU'),\n            ('AE', 'FU'),\n            ('AE', 'RK'),\n            ('AE', 'SH'),\n            ('AE', 'UQ'),\n            ('AR',  'B'),\n            ('AR',  'C'),\n            ...\n            ('US', 'UT'),\n            ('US', 'VA'),\n            ('US', 'VT'),\n            ('US', 'WA'),\n            ('US', 'WI'),\n            ('US', 'WV'),\n            ('US', 'WY'),\n            ('VN', 'HN'),\n            ('VN', 'SG'),\n            ('ZA', 'GT')],\n           names=['Country', 'State/Province'], length=545)"
     },
     "execution_count": 25,
     "metadata": {},
     "output_type": "execute_result"
    }
   ],
   "source": [
    "grouped1.index #多次group后得到的是层级索引"
   ],
   "metadata": {
    "collapsed": false,
    "ExecuteTime": {
     "end_time": "2024-07-08T02:47:05.074536300Z",
     "start_time": "2024-07-08T02:47:05.038228Z"
    }
   }
  },
  {
   "cell_type": "code",
   "execution_count": 26,
   "outputs": [
    {
     "data": {
      "text/plain": "                        Brand  Store Number  Store Name  Ownership Type  \\\nCountry State/Province                                                    \nAD      7                   1             1           1               1   \nAE      AJ                  2             2           2               2   \n        AZ                 48            48          48              48   \n        DU                 82            82          82              82   \n        FU                  2             2           2               2   \n...                       ...           ...         ...             ...   \nUS      WV                 25            25          25              25   \n        WY                 23            23          23              23   \nVN      HN                  6             6           6               6   \n        SG                 19            19          19              19   \nZA      GT                  3             3           3               3   \n\n                        Street Address  City  Postcode  Phone Number  \\\nCountry State/Province                                                 \nAD      7                            1     1         1             1   \nAE      AJ                           2     2         0             0   \n        AZ                          48    48         7            20   \n        DU                          82    82        16            50   \n        FU                           2     2         1             0   \n...                                ...   ...       ...           ...   \nUS      WV                          25    25        25            23   \n        WY                          23    23        23            22   \nVN      HN                           6     6         6             6   \n        SG                          19    19        19            17   \nZA      GT                           3     3         3             2   \n\n                        Timezone  Longitude  Latitude  \nCountry State/Province                                 \nAD      7                      1          1         1  \nAE      AJ                     2          2         2  \n        AZ                    48         48        48  \n        DU                    82         82        82  \n        FU                     2          2         2  \n...                          ...        ...       ...  \nUS      WV                    25         25        25  \n        WY                    23         23        23  \nVN      HN                     6          6         6  \n        SG                    19         19        19  \nZA      GT                     3          3         3  \n\n[545 rows x 11 columns]",
      "text/html": "<div>\n<style scoped>\n    .dataframe tbody tr th:only-of-type {\n        vertical-align: middle;\n    }\n\n    .dataframe tbody tr th {\n        vertical-align: top;\n    }\n\n    .dataframe thead th {\n        text-align: right;\n    }\n</style>\n<table border=\"1\" class=\"dataframe\">\n  <thead>\n    <tr style=\"text-align: right;\">\n      <th></th>\n      <th></th>\n      <th>Brand</th>\n      <th>Store Number</th>\n      <th>Store Name</th>\n      <th>Ownership Type</th>\n      <th>Street Address</th>\n      <th>City</th>\n      <th>Postcode</th>\n      <th>Phone Number</th>\n      <th>Timezone</th>\n      <th>Longitude</th>\n      <th>Latitude</th>\n    </tr>\n    <tr>\n      <th>Country</th>\n      <th>State/Province</th>\n      <th></th>\n      <th></th>\n      <th></th>\n      <th></th>\n      <th></th>\n      <th></th>\n      <th></th>\n      <th></th>\n      <th></th>\n      <th></th>\n      <th></th>\n    </tr>\n  </thead>\n  <tbody>\n    <tr>\n      <th>AD</th>\n      <th>7</th>\n      <td>1</td>\n      <td>1</td>\n      <td>1</td>\n      <td>1</td>\n      <td>1</td>\n      <td>1</td>\n      <td>1</td>\n      <td>1</td>\n      <td>1</td>\n      <td>1</td>\n      <td>1</td>\n    </tr>\n    <tr>\n      <th rowspan=\"4\" valign=\"top\">AE</th>\n      <th>AJ</th>\n      <td>2</td>\n      <td>2</td>\n      <td>2</td>\n      <td>2</td>\n      <td>2</td>\n      <td>2</td>\n      <td>0</td>\n      <td>0</td>\n      <td>2</td>\n      <td>2</td>\n      <td>2</td>\n    </tr>\n    <tr>\n      <th>AZ</th>\n      <td>48</td>\n      <td>48</td>\n      <td>48</td>\n      <td>48</td>\n      <td>48</td>\n      <td>48</td>\n      <td>7</td>\n      <td>20</td>\n      <td>48</td>\n      <td>48</td>\n      <td>48</td>\n    </tr>\n    <tr>\n      <th>DU</th>\n      <td>82</td>\n      <td>82</td>\n      <td>82</td>\n      <td>82</td>\n      <td>82</td>\n      <td>82</td>\n      <td>16</td>\n      <td>50</td>\n      <td>82</td>\n      <td>82</td>\n      <td>82</td>\n    </tr>\n    <tr>\n      <th>FU</th>\n      <td>2</td>\n      <td>2</td>\n      <td>2</td>\n      <td>2</td>\n      <td>2</td>\n      <td>2</td>\n      <td>1</td>\n      <td>0</td>\n      <td>2</td>\n      <td>2</td>\n      <td>2</td>\n    </tr>\n    <tr>\n      <th>...</th>\n      <th>...</th>\n      <td>...</td>\n      <td>...</td>\n      <td>...</td>\n      <td>...</td>\n      <td>...</td>\n      <td>...</td>\n      <td>...</td>\n      <td>...</td>\n      <td>...</td>\n      <td>...</td>\n      <td>...</td>\n    </tr>\n    <tr>\n      <th rowspan=\"2\" valign=\"top\">US</th>\n      <th>WV</th>\n      <td>25</td>\n      <td>25</td>\n      <td>25</td>\n      <td>25</td>\n      <td>25</td>\n      <td>25</td>\n      <td>25</td>\n      <td>23</td>\n      <td>25</td>\n      <td>25</td>\n      <td>25</td>\n    </tr>\n    <tr>\n      <th>WY</th>\n      <td>23</td>\n      <td>23</td>\n      <td>23</td>\n      <td>23</td>\n      <td>23</td>\n      <td>23</td>\n      <td>23</td>\n      <td>22</td>\n      <td>23</td>\n      <td>23</td>\n      <td>23</td>\n    </tr>\n    <tr>\n      <th rowspan=\"2\" valign=\"top\">VN</th>\n      <th>HN</th>\n      <td>6</td>\n      <td>6</td>\n      <td>6</td>\n      <td>6</td>\n      <td>6</td>\n      <td>6</td>\n      <td>6</td>\n      <td>6</td>\n      <td>6</td>\n      <td>6</td>\n      <td>6</td>\n    </tr>\n    <tr>\n      <th>SG</th>\n      <td>19</td>\n      <td>19</td>\n      <td>19</td>\n      <td>19</td>\n      <td>19</td>\n      <td>19</td>\n      <td>19</td>\n      <td>17</td>\n      <td>19</td>\n      <td>19</td>\n      <td>19</td>\n    </tr>\n    <tr>\n      <th>ZA</th>\n      <th>GT</th>\n      <td>3</td>\n      <td>3</td>\n      <td>3</td>\n      <td>3</td>\n      <td>3</td>\n      <td>3</td>\n      <td>3</td>\n      <td>2</td>\n      <td>3</td>\n      <td>3</td>\n      <td>3</td>\n    </tr>\n  </tbody>\n</table>\n<p>545 rows × 11 columns</p>\n</div>"
     },
     "execution_count": 26,
     "metadata": {},
     "output_type": "execute_result"
    }
   ],
   "source": [
    "grouped2 = df.groupby(by=[df[\"Country\"], df[\"State/Province\"]]).count()\n",
    "grouped2"
   ],
   "metadata": {
    "collapsed": false,
    "pycharm": {
     "name": "#%%\n"
    },
    "ExecuteTime": {
     "end_time": "2024-07-08T02:48:12.129328200Z",
     "start_time": "2024-07-08T02:48:12.082284300Z"
    }
   }
  },
  {
   "cell_type": "code",
   "execution_count": null,
   "outputs": [],
   "source": [
    "#这里可以看出32对应的省是江苏\n",
    "country_cn[country_cn['State/Province']=='32']"
   ],
   "metadata": {
    "collapsed": false,
    "pycharm": {
     "name": "#%%\n"
    }
   }
  },
  {
   "cell_type": "markdown",
   "source": [
    "# 设置索引"
   ],
   "metadata": {
    "collapsed": false
   }
  },
  {
   "cell_type": "code",
   "execution_count": 27,
   "outputs": [
    {
     "name": "stdout",
     "output_type": "stream",
     "text": [
      "2178018665744\n"
     ]
    },
    {
     "data": {
      "text/plain": "   a  b    c  d\n0  0  7  one  h\n1  1  6  one  j\n2  2  5  one  k\n3  3  4  two  l\n4  4  3  two  m\n5  5  2  two  n\n6  6  1  two  o",
      "text/html": "<div>\n<style scoped>\n    .dataframe tbody tr th:only-of-type {\n        vertical-align: middle;\n    }\n\n    .dataframe tbody tr th {\n        vertical-align: top;\n    }\n\n    .dataframe thead th {\n        text-align: right;\n    }\n</style>\n<table border=\"1\" class=\"dataframe\">\n  <thead>\n    <tr style=\"text-align: right;\">\n      <th></th>\n      <th>a</th>\n      <th>b</th>\n      <th>c</th>\n      <th>d</th>\n    </tr>\n  </thead>\n  <tbody>\n    <tr>\n      <th>0</th>\n      <td>0</td>\n      <td>7</td>\n      <td>one</td>\n      <td>h</td>\n    </tr>\n    <tr>\n      <th>1</th>\n      <td>1</td>\n      <td>6</td>\n      <td>one</td>\n      <td>j</td>\n    </tr>\n    <tr>\n      <th>2</th>\n      <td>2</td>\n      <td>5</td>\n      <td>one</td>\n      <td>k</td>\n    </tr>\n    <tr>\n      <th>3</th>\n      <td>3</td>\n      <td>4</td>\n      <td>two</td>\n      <td>l</td>\n    </tr>\n    <tr>\n      <th>4</th>\n      <td>4</td>\n      <td>3</td>\n      <td>two</td>\n      <td>m</td>\n    </tr>\n    <tr>\n      <th>5</th>\n      <td>5</td>\n      <td>2</td>\n      <td>two</td>\n      <td>n</td>\n    </tr>\n    <tr>\n      <th>6</th>\n      <td>6</td>\n      <td>1</td>\n      <td>two</td>\n      <td>o</td>\n    </tr>\n  </tbody>\n</table>\n</div>"
     },
     "execution_count": 27,
     "metadata": {},
     "output_type": "execute_result"
    }
   ],
   "source": [
    "#索引中单项不可变，但是整体可以换掉\n",
    "a = pd.DataFrame({'a': range(7),'b': range(7, 0, -1),\n",
    "                  'c': ['one','one','one','two','two','two', 'two'],\n",
    "                  'd': list(\"hjklmno\")})\n",
    "print(id(a))\n",
    "a"
   ],
   "metadata": {
    "collapsed": false,
    "pycharm": {
     "name": "#%%\n"
    },
    "ExecuteTime": {
     "end_time": "2024-07-08T02:49:07.530135400Z",
     "start_time": "2024-07-08T02:49:07.465502700Z"
    }
   }
  },
  {
   "cell_type": "code",
   "execution_count": 28,
   "outputs": [
    {
     "name": "stdout",
     "output_type": "stream",
     "text": [
      "   a  b    c  d\n",
      "0  0  7  one  h\n",
      "1  1  6  one  j\n",
      "2  2  5  one  k\n",
      "3  3  4  two  l\n",
      "4  4  3  two  m\n",
      "5  5  2  two  n\n",
      "6  6  1  two  o\n",
      "--------------------------------------------------\n",
      "2178018665744\n"
     ]
    },
    {
     "data": {
      "text/plain": "   a  b    c  d\na  0  7  one  h\nb  1  6  one  j\nc  2  5  one  k\nd  3  4  two  l\ne  4  3  two  m\nf  5  2  two  n\ng  6  1  two  o",
      "text/html": "<div>\n<style scoped>\n    .dataframe tbody tr th:only-of-type {\n        vertical-align: middle;\n    }\n\n    .dataframe tbody tr th {\n        vertical-align: top;\n    }\n\n    .dataframe thead th {\n        text-align: right;\n    }\n</style>\n<table border=\"1\" class=\"dataframe\">\n  <thead>\n    <tr style=\"text-align: right;\">\n      <th></th>\n      <th>a</th>\n      <th>b</th>\n      <th>c</th>\n      <th>d</th>\n    </tr>\n  </thead>\n  <tbody>\n    <tr>\n      <th>a</th>\n      <td>0</td>\n      <td>7</td>\n      <td>one</td>\n      <td>h</td>\n    </tr>\n    <tr>\n      <th>b</th>\n      <td>1</td>\n      <td>6</td>\n      <td>one</td>\n      <td>j</td>\n    </tr>\n    <tr>\n      <th>c</th>\n      <td>2</td>\n      <td>5</td>\n      <td>one</td>\n      <td>k</td>\n    </tr>\n    <tr>\n      <th>d</th>\n      <td>3</td>\n      <td>4</td>\n      <td>two</td>\n      <td>l</td>\n    </tr>\n    <tr>\n      <th>e</th>\n      <td>4</td>\n      <td>3</td>\n      <td>two</td>\n      <td>m</td>\n    </tr>\n    <tr>\n      <th>f</th>\n      <td>5</td>\n      <td>2</td>\n      <td>two</td>\n      <td>n</td>\n    </tr>\n    <tr>\n      <th>g</th>\n      <td>6</td>\n      <td>1</td>\n      <td>two</td>\n      <td>o</td>\n    </tr>\n  </tbody>\n</table>\n</div>"
     },
     "execution_count": 28,
     "metadata": {},
     "output_type": "execute_result"
    }
   ],
   "source": [
    "c=a.copy()\n",
    "a.index=list('abcdefg')  #a的索引变了，a.index更换索引\n",
    "print(c)\n",
    "# a.columns=list('ABCD')  #a的列名变了，a.columns更换列名\n",
    "print('-'*50)\n",
    "print(id(a))\n",
    "a"
   ],
   "metadata": {
    "collapsed": false,
    "pycharm": {
     "name": "#%%\n"
    },
    "ExecuteTime": {
     "end_time": "2024-07-08T02:49:54.527557500Z",
     "start_time": "2024-07-08T02:49:54.446460200Z"
    }
   }
  },
  {
   "cell_type": "code",
   "execution_count": 31,
   "outputs": [
    {
     "data": {
      "text/plain": "(7, 4)"
     },
     "execution_count": 31,
     "metadata": {},
     "output_type": "execute_result"
    }
   ],
   "source": [
    "c.values.shape"
   ],
   "metadata": {
    "collapsed": false,
    "ExecuteTime": {
     "end_time": "2024-04-11T08:42:05.057905400Z",
     "start_time": "2024-04-11T08:42:05.034914200Z"
    }
   }
  },
  {
   "cell_type": "code",
   "execution_count": 32,
   "outputs": [
    {
     "name": "stdout",
     "output_type": "stream",
     "text": [
      "--------------------------------------------------\n",
      "   a  b    c  d\n",
      "0  0  7  one  h\n",
      "1  1  6  one  j\n",
      "2  2  5  one  k\n",
      "3  3  4  two  l\n",
      "4  4  3  two  m\n",
      "5  5  2  two  n\n",
      "6  6  1  two  o\n",
      "--------------------------------------------------\n"
     ]
    },
    {
     "data": {
      "text/plain": "    a   b    c    d\na NaN NaN  NaN  NaN\nb NaN NaN  NaN  NaN\nc NaN NaN  NaN  NaN\nd NaN NaN  NaN  NaN\ne NaN NaN  NaN  NaN\nf NaN NaN  NaN  NaN\ng NaN NaN  NaN  NaN",
      "text/html": "<div>\n<style scoped>\n    .dataframe tbody tr th:only-of-type {\n        vertical-align: middle;\n    }\n\n    .dataframe tbody tr th {\n        vertical-align: top;\n    }\n\n    .dataframe thead th {\n        text-align: right;\n    }\n</style>\n<table border=\"1\" class=\"dataframe\">\n  <thead>\n    <tr style=\"text-align: right;\">\n      <th></th>\n      <th>a</th>\n      <th>b</th>\n      <th>c</th>\n      <th>d</th>\n    </tr>\n  </thead>\n  <tbody>\n    <tr>\n      <th>a</th>\n      <td>NaN</td>\n      <td>NaN</td>\n      <td>NaN</td>\n      <td>NaN</td>\n    </tr>\n    <tr>\n      <th>b</th>\n      <td>NaN</td>\n      <td>NaN</td>\n      <td>NaN</td>\n      <td>NaN</td>\n    </tr>\n    <tr>\n      <th>c</th>\n      <td>NaN</td>\n      <td>NaN</td>\n      <td>NaN</td>\n      <td>NaN</td>\n    </tr>\n    <tr>\n      <th>d</th>\n      <td>NaN</td>\n      <td>NaN</td>\n      <td>NaN</td>\n      <td>NaN</td>\n    </tr>\n    <tr>\n      <th>e</th>\n      <td>NaN</td>\n      <td>NaN</td>\n      <td>NaN</td>\n      <td>NaN</td>\n    </tr>\n    <tr>\n      <th>f</th>\n      <td>NaN</td>\n      <td>NaN</td>\n      <td>NaN</td>\n      <td>NaN</td>\n    </tr>\n    <tr>\n      <th>g</th>\n      <td>NaN</td>\n      <td>NaN</td>\n      <td>NaN</td>\n      <td>NaN</td>\n    </tr>\n  </tbody>\n</table>\n</div>"
     },
     "execution_count": 32,
     "metadata": {},
     "output_type": "execute_result"
    }
   ],
   "source": [
    "print('-'*50)\n",
    "b=c.reindex(list('abcdefg'))  #返回一个新的df，索引是设置了c的索引后，c索引不变,b是没有值\n",
    "print(c)\n",
    "print('-'*50)\n",
    "b"
   ],
   "metadata": {
    "collapsed": false,
    "pycharm": {
     "name": "#%%\n"
    },
    "ExecuteTime": {
     "end_time": "2024-04-11T08:42:41.528179Z",
     "start_time": "2024-04-11T08:42:41.459219700Z"
    }
   }
  },
  {
   "cell_type": "code",
   "execution_count": 30,
   "outputs": [
    {
     "name": "stdout",
     "output_type": "stream",
     "text": [
      "   a  b    c  d\n",
      "0  0  7  one  h\n",
      "1  1  6  one  j\n",
      "2  2  5  one  k\n",
      "3  3  4  two  l\n",
      "4  4  3  two  m\n",
      "5  5  2  two  n\n",
      "6  6  1  two  o\n",
      "--------------------------------------------------\n"
     ]
    },
    {
     "data": {
      "text/plain": "       a  b\nc   d      \none h  0  7\n    j  1  6\n    k  2  5\ntwo l  3  4\n    m  4  3\n    n  5  2\n    o  6  1",
      "text/html": "<div>\n<style scoped>\n    .dataframe tbody tr th:only-of-type {\n        vertical-align: middle;\n    }\n\n    .dataframe tbody tr th {\n        vertical-align: top;\n    }\n\n    .dataframe thead th {\n        text-align: right;\n    }\n</style>\n<table border=\"1\" class=\"dataframe\">\n  <thead>\n    <tr style=\"text-align: right;\">\n      <th></th>\n      <th></th>\n      <th>a</th>\n      <th>b</th>\n    </tr>\n    <tr>\n      <th>c</th>\n      <th>d</th>\n      <th></th>\n      <th></th>\n    </tr>\n  </thead>\n  <tbody>\n    <tr>\n      <th rowspan=\"3\" valign=\"top\">one</th>\n      <th>h</th>\n      <td>0</td>\n      <td>7</td>\n    </tr>\n    <tr>\n      <th>j</th>\n      <td>1</td>\n      <td>6</td>\n    </tr>\n    <tr>\n      <th>k</th>\n      <td>2</td>\n      <td>5</td>\n    </tr>\n    <tr>\n      <th rowspan=\"4\" valign=\"top\">two</th>\n      <th>l</th>\n      <td>3</td>\n      <td>4</td>\n    </tr>\n    <tr>\n      <th>m</th>\n      <td>4</td>\n      <td>3</td>\n    </tr>\n    <tr>\n      <th>n</th>\n      <td>5</td>\n      <td>2</td>\n    </tr>\n    <tr>\n      <th>o</th>\n      <td>6</td>\n      <td>1</td>\n    </tr>\n  </tbody>\n</table>\n</div>"
     },
     "execution_count": 30,
     "metadata": {},
     "output_type": "execute_result"
    }
   ],
   "source": [
    "#让某些列变为索引，让c列，d列数据变为索引\n",
    "a=c.copy()\n",
    "print(a)\n",
    "print('-'*50)\n",
    "a.set_index(['c','d'],inplace=True)#a没变，返回修改后的df,set_index要熟练掌握\n",
    "a"
   ],
   "metadata": {
    "collapsed": false,
    "pycharm": {
     "name": "#%%\n"
    },
    "ExecuteTime": {
     "end_time": "2024-07-08T02:53:05.665605700Z",
     "start_time": "2024-07-08T02:53:05.637878600Z"
    }
   }
  },
  {
   "cell_type": "markdown",
   "source": [
    "### 时间序列"
   ],
   "metadata": {
    "collapsed": false
   }
  },
  {
   "cell_type": "code",
   "execution_count": 31,
   "outputs": [
    {
     "data": {
      "text/plain": "DatetimeIndex(['2019-01-01', '2019-01-02', '2019-01-03', '2019-01-04',\n               '2019-01-05', '2019-01-06', '2019-01-07', '2019-01-08',\n               '2019-01-09', '2019-01-10', '2019-01-11', '2019-01-12',\n               '2019-01-13', '2019-01-14', '2019-01-15', '2019-01-16',\n               '2019-01-17', '2019-01-18', '2019-01-19', '2019-01-20',\n               '2019-01-21', '2019-01-22', '2019-01-23', '2019-01-24',\n               '2019-01-25', '2019-01-26', '2019-01-27', '2019-01-28',\n               '2019-01-29', '2019-01-30', '2019-01-31', '2019-02-01'],\n              dtype='datetime64[ns]', freq='D')"
     },
     "execution_count": 31,
     "metadata": {},
     "output_type": "execute_result"
    }
   ],
   "source": [
    "pd.date_range(start=\"20190101\", end=\"20190201\")"
   ],
   "metadata": {
    "collapsed": false,
    "pycharm": {
     "name": "#%%\n"
    },
    "ExecuteTime": {
     "end_time": "2024-07-08T02:54:19.046529700Z",
     "start_time": "2024-07-08T02:54:19.036227900Z"
    }
   }
  },
  {
   "cell_type": "code",
   "execution_count": 32,
   "outputs": [
    {
     "data": {
      "text/plain": "DatetimeIndex(['2024-07-08', '2024-07-09', '2024-07-10', '2024-07-11',\n               '2024-07-12', '2024-07-15', '2024-07-16', '2024-07-17',\n               '2024-07-18', '2024-07-19'],\n              dtype='datetime64[ns]', freq='B')"
     },
     "execution_count": 32,
     "metadata": {},
     "output_type": "execute_result"
    }
   ],
   "source": [
    "pd.date_range(start=\"20240708\",periods=10,freq='B')"
   ],
   "metadata": {
    "collapsed": false,
    "pycharm": {
     "name": "#%%\n"
    },
    "ExecuteTime": {
     "end_time": "2024-07-08T02:54:46.386773700Z",
     "start_time": "2024-07-08T02:54:46.327629500Z"
    }
   }
  },
  {
   "cell_type": "code",
   "execution_count": 34,
   "outputs": [
    {
     "data": {
      "text/plain": "DatetimeIndex(['2019-01-31', '2019-02-28', '2019-03-31', '2019-04-30',\n               '2019-05-31', '2019-06-30', '2019-07-31', '2019-08-31',\n               '2019-09-30', '2019-10-31'],\n              dtype='datetime64[ns]', freq='ME')"
     },
     "execution_count": 34,
     "metadata": {},
     "output_type": "execute_result"
    }
   ],
   "source": [
    "pd.date_range(start=\"20190101\",periods=10,freq='ME')"
   ],
   "metadata": {
    "collapsed": false,
    "pycharm": {
     "name": "#%%\n"
    },
    "ExecuteTime": {
     "end_time": "2024-07-08T02:55:16.027559400Z",
     "start_time": "2024-07-08T02:55:16.000035Z"
    }
   }
  },
  {
   "cell_type": "code",
   "execution_count": 35,
   "outputs": [
    {
     "data": {
      "text/plain": "DatetimeIndex(['2019-01-01', '2019-02-01', '2019-03-01', '2019-04-01',\n               '2019-05-01', '2019-06-01', '2019-07-01', '2019-08-01',\n               '2019-09-01', '2019-10-01'],\n              dtype='datetime64[ns]', freq='MS')"
     },
     "execution_count": 35,
     "metadata": {},
     "output_type": "execute_result"
    }
   ],
   "source": [
    "pd.date_range(start=\"20190101\",periods=10,freq='MS')"
   ],
   "metadata": {
    "collapsed": false,
    "pycharm": {
     "name": "#%%\n"
    },
    "ExecuteTime": {
     "end_time": "2024-07-08T02:55:27.319661800Z",
     "start_time": "2024-07-08T02:55:27.266895100Z"
    }
   }
  },
  {
   "cell_type": "code",
   "execution_count": 36,
   "outputs": [
    {
     "data": {
      "text/plain": "DatetimeIndex(['2024-07-07', '2024-07-14', '2024-07-21', '2024-07-28',\n               '2024-08-04', '2024-08-11', '2024-08-18', '2024-08-25',\n               '2024-09-01', '2024-09-08'],\n              dtype='datetime64[ns]', freq='W-SUN')"
     },
     "execution_count": 36,
     "metadata": {},
     "output_type": "execute_result"
    }
   ],
   "source": [
    "pd.date_range(start=\"20240707\",periods=10,freq='W')  #拿每周的周日生成"
   ],
   "metadata": {
    "collapsed": false,
    "pycharm": {
     "name": "#%%\n"
    },
    "ExecuteTime": {
     "end_time": "2024-07-08T02:55:40.859053100Z",
     "start_time": "2024-07-08T02:55:40.810658Z"
    }
   }
  },
  {
   "cell_type": "code",
   "execution_count": 37,
   "outputs": [
    {
     "data": {
      "text/plain": "0     3/11/2000\n1     3/12/2000\n2     3/13/2000\n3     3/11/2000\n4     3/12/2000\n5     3/13/2000\n6     3/11/2000\n7     3/12/2000\n8     3/13/2000\n9     3/11/2000\n10    3/12/2000\n11    3/13/2000\n12    3/11/2000\n13    3/12/2000\n14    3/13/2000\ndtype: object"
     },
     "execution_count": 37,
     "metadata": {},
     "output_type": "execute_result"
    }
   ],
   "source": [
    "s = pd.Series(['3/11/2000', '3/12/2000', '3/13/2000'] * 5)\n",
    "s"
   ],
   "metadata": {
    "collapsed": false,
    "pycharm": {
     "name": "#%%\n"
    },
    "ExecuteTime": {
     "end_time": "2024-07-08T02:55:59.706367100Z",
     "start_time": "2024-07-08T02:55:59.678311900Z"
    }
   }
  },
  {
   "cell_type": "code",
   "execution_count": 39,
   "outputs": [],
   "source": [
    "#timeit可以统计执行耗时，to_datetime把字符串转为时间格式\n",
    "date_ser=pd.to_datetime(s)"
   ],
   "metadata": {
    "collapsed": false,
    "pycharm": {
     "name": "#%%\n"
    },
    "ExecuteTime": {
     "end_time": "2024-07-08T02:58:08.668007Z",
     "start_time": "2024-07-08T02:58:08.632772700Z"
    }
   }
  },
  {
   "cell_type": "code",
   "execution_count": 45,
   "outputs": [
    {
     "data": {
      "text/plain": "0     3\n1     3\n2     3\n3     3\n4     3\n5     3\n6     3\n7     3\n8     3\n9     3\n10    3\n11    3\n12    3\n13    3\n14    3\ndtype: int32"
     },
     "execution_count": 45,
     "metadata": {},
     "output_type": "execute_result"
    }
   ],
   "source": [
    "date_ser.dt.month"
   ],
   "metadata": {
    "collapsed": false,
    "ExecuteTime": {
     "end_time": "2024-07-08T02:59:21.363356500Z",
     "start_time": "2024-07-08T02:59:21.284621700Z"
    }
   }
  },
  {
   "cell_type": "code",
   "execution_count": 50,
   "outputs": [
    {
     "name": "stdout",
     "output_type": "stream",
     "text": [
      "<class 'pandas.core.frame.DataFrame'>\n",
      "RangeIndex: 249737 entries, 0 to 249736\n",
      "Data columns (total 9 columns):\n",
      " #   Column     Non-Null Count   Dtype  \n",
      "---  ------     --------------   -----  \n",
      " 0   lat        249737 non-null  float64\n",
      " 1   lng        249737 non-null  float64\n",
      " 2   desc       249737 non-null  object \n",
      " 3   zip        219391 non-null  float64\n",
      " 4   title      249737 non-null  object \n",
      " 5   timeStamp  249737 non-null  object \n",
      " 6   twp        249644 non-null  object \n",
      " 7   addr       249737 non-null  object \n",
      " 8   e          249737 non-null  int64  \n",
      "dtypes: float64(3), int64(1), object(5)\n",
      "memory usage: 17.1+ MB\n"
     ]
    }
   ],
   "source": [
    "#实战美国911数据\n",
    "from matplotlib import pyplot as plt\n",
    "\n",
    "# 把时间字符串转为时间类型设置为索引\n",
    "df = pd.read_csv(\"./911.csv\")\n",
    "df.info()"
   ],
   "metadata": {
    "collapsed": false,
    "pycharm": {
     "name": "#%%\n"
    },
    "ExecuteTime": {
     "end_time": "2024-07-08T03:05:09.733177Z",
     "start_time": "2024-07-08T03:05:07.531485600Z"
    }
   }
  },
  {
   "cell_type": "code",
   "execution_count": 51,
   "outputs": [
    {
     "data": {
      "text/plain": "                           lat        lng  \\\ntimeStamp                                   \n2015-12-10 17:10:52  40.297876 -75.581294   \n2015-12-10 17:29:21  40.258061 -75.264680   \n2015-12-10 14:39:21  40.121182 -75.351975   \n2015-12-10 16:47:36  40.116153 -75.343513   \n2015-12-10 16:56:52  40.251492 -75.603350   \n2015-12-10 15:39:04  40.253473 -75.283245   \n2015-12-10 16:46:48  40.182111 -75.127795   \n2015-12-10 16:17:05  40.217286 -75.405182   \n2015-12-10 16:51:42  40.289027 -75.399590   \n2015-12-10 17:35:41  40.102398 -75.291458   \n\n                                                                  desc  \\\ntimeStamp                                                                \n2015-12-10 17:10:52  REINDEER CT & DEAD END;  NEW HANOVER; Station ...   \n2015-12-10 17:29:21  BRIAR PATH & WHITEMARSH LN;  HATFIELD TOWNSHIP...   \n2015-12-10 14:39:21  HAWS AVE; NORRISTOWN; 2015-12-10 @ 14:39:21-St...   \n2015-12-10 16:47:36  AIRY ST & SWEDE ST;  NORRISTOWN; Station 308A;...   \n2015-12-10 16:56:52  CHERRYWOOD CT & DEAD END;  LOWER POTTSGROVE; S...   \n2015-12-10 15:39:04  CANNON AVE & W 9TH ST;  LANSDALE; Station 345;...   \n2015-12-10 16:46:48  LAUREL AVE & OAKDALE AVE;  HORSHAM; Station 35...   \n2015-12-10 16:17:05  COLLEGEVILLE RD & LYWISKI RD;  SKIPPACK; Stati...   \n2015-12-10 16:51:42  MAIN ST & OLD SUMNEYTOWN PIKE;  LOWER SALFORD;...   \n2015-12-10 17:35:41  BLUEROUTE  & RAMP I476 NB TO CHEMICAL RD; PLYM...   \n\n                         zip                        title                twp  \\\ntimeStamp                                                                      \n2015-12-10 17:10:52  19525.0       EMS: BACK PAINS/INJURY        NEW HANOVER   \n2015-12-10 17:29:21  19446.0      EMS: DIABETIC EMERGENCY  HATFIELD TOWNSHIP   \n2015-12-10 14:39:21  19401.0          Fire: GAS-ODOR/LEAK         NORRISTOWN   \n2015-12-10 16:47:36  19401.0       EMS: CARDIAC EMERGENCY         NORRISTOWN   \n2015-12-10 16:56:52      NaN               EMS: DIZZINESS   LOWER POTTSGROVE   \n2015-12-10 15:39:04  19446.0             EMS: HEAD INJURY           LANSDALE   \n2015-12-10 16:46:48  19044.0         EMS: NAUSEA/VOMITING            HORSHAM   \n2015-12-10 16:17:05  19426.0   EMS: RESPIRATORY EMERGENCY           SKIPPACK   \n2015-12-10 16:51:42  19438.0        EMS: SYNCOPAL EPISODE      LOWER SALFORD   \n2015-12-10 17:35:41  19462.0  Traffic: VEHICLE ACCIDENT -           PLYMOUTH   \n\n                                                         addr  e     cate  \ntimeStamp                                                                  \n2015-12-10 17:10:52                    REINDEER CT & DEAD END  1      EMS  \n2015-12-10 17:29:21                BRIAR PATH & WHITEMARSH LN  1      EMS  \n2015-12-10 14:39:21                                  HAWS AVE  1     Fire  \n2015-12-10 16:47:36                        AIRY ST & SWEDE ST  1      EMS  \n2015-12-10 16:56:52                  CHERRYWOOD CT & DEAD END  1      EMS  \n2015-12-10 15:39:04                     CANNON AVE & W 9TH ST  1      EMS  \n2015-12-10 16:46:48                  LAUREL AVE & OAKDALE AVE  1      EMS  \n2015-12-10 16:17:05              COLLEGEVILLE RD & LYWISKI RD  1      EMS  \n2015-12-10 16:51:42             MAIN ST & OLD SUMNEYTOWN PIKE  1      EMS  \n2015-12-10 17:35:41  BLUEROUTE  & RAMP I476 NB TO CHEMICAL RD  1  Traffic  ",
      "text/html": "<div>\n<style scoped>\n    .dataframe tbody tr th:only-of-type {\n        vertical-align: middle;\n    }\n\n    .dataframe tbody tr th {\n        vertical-align: top;\n    }\n\n    .dataframe thead th {\n        text-align: right;\n    }\n</style>\n<table border=\"1\" class=\"dataframe\">\n  <thead>\n    <tr style=\"text-align: right;\">\n      <th></th>\n      <th>lat</th>\n      <th>lng</th>\n      <th>desc</th>\n      <th>zip</th>\n      <th>title</th>\n      <th>twp</th>\n      <th>addr</th>\n      <th>e</th>\n      <th>cate</th>\n    </tr>\n    <tr>\n      <th>timeStamp</th>\n      <th></th>\n      <th></th>\n      <th></th>\n      <th></th>\n      <th></th>\n      <th></th>\n      <th></th>\n      <th></th>\n      <th></th>\n    </tr>\n  </thead>\n  <tbody>\n    <tr>\n      <th>2015-12-10 17:10:52</th>\n      <td>40.297876</td>\n      <td>-75.581294</td>\n      <td>REINDEER CT &amp; DEAD END;  NEW HANOVER; Station ...</td>\n      <td>19525.0</td>\n      <td>EMS: BACK PAINS/INJURY</td>\n      <td>NEW HANOVER</td>\n      <td>REINDEER CT &amp; DEAD END</td>\n      <td>1</td>\n      <td>EMS</td>\n    </tr>\n    <tr>\n      <th>2015-12-10 17:29:21</th>\n      <td>40.258061</td>\n      <td>-75.264680</td>\n      <td>BRIAR PATH &amp; WHITEMARSH LN;  HATFIELD TOWNSHIP...</td>\n      <td>19446.0</td>\n      <td>EMS: DIABETIC EMERGENCY</td>\n      <td>HATFIELD TOWNSHIP</td>\n      <td>BRIAR PATH &amp; WHITEMARSH LN</td>\n      <td>1</td>\n      <td>EMS</td>\n    </tr>\n    <tr>\n      <th>2015-12-10 14:39:21</th>\n      <td>40.121182</td>\n      <td>-75.351975</td>\n      <td>HAWS AVE; NORRISTOWN; 2015-12-10 @ 14:39:21-St...</td>\n      <td>19401.0</td>\n      <td>Fire: GAS-ODOR/LEAK</td>\n      <td>NORRISTOWN</td>\n      <td>HAWS AVE</td>\n      <td>1</td>\n      <td>Fire</td>\n    </tr>\n    <tr>\n      <th>2015-12-10 16:47:36</th>\n      <td>40.116153</td>\n      <td>-75.343513</td>\n      <td>AIRY ST &amp; SWEDE ST;  NORRISTOWN; Station 308A;...</td>\n      <td>19401.0</td>\n      <td>EMS: CARDIAC EMERGENCY</td>\n      <td>NORRISTOWN</td>\n      <td>AIRY ST &amp; SWEDE ST</td>\n      <td>1</td>\n      <td>EMS</td>\n    </tr>\n    <tr>\n      <th>2015-12-10 16:56:52</th>\n      <td>40.251492</td>\n      <td>-75.603350</td>\n      <td>CHERRYWOOD CT &amp; DEAD END;  LOWER POTTSGROVE; S...</td>\n      <td>NaN</td>\n      <td>EMS: DIZZINESS</td>\n      <td>LOWER POTTSGROVE</td>\n      <td>CHERRYWOOD CT &amp; DEAD END</td>\n      <td>1</td>\n      <td>EMS</td>\n    </tr>\n    <tr>\n      <th>2015-12-10 15:39:04</th>\n      <td>40.253473</td>\n      <td>-75.283245</td>\n      <td>CANNON AVE &amp; W 9TH ST;  LANSDALE; Station 345;...</td>\n      <td>19446.0</td>\n      <td>EMS: HEAD INJURY</td>\n      <td>LANSDALE</td>\n      <td>CANNON AVE &amp; W 9TH ST</td>\n      <td>1</td>\n      <td>EMS</td>\n    </tr>\n    <tr>\n      <th>2015-12-10 16:46:48</th>\n      <td>40.182111</td>\n      <td>-75.127795</td>\n      <td>LAUREL AVE &amp; OAKDALE AVE;  HORSHAM; Station 35...</td>\n      <td>19044.0</td>\n      <td>EMS: NAUSEA/VOMITING</td>\n      <td>HORSHAM</td>\n      <td>LAUREL AVE &amp; OAKDALE AVE</td>\n      <td>1</td>\n      <td>EMS</td>\n    </tr>\n    <tr>\n      <th>2015-12-10 16:17:05</th>\n      <td>40.217286</td>\n      <td>-75.405182</td>\n      <td>COLLEGEVILLE RD &amp; LYWISKI RD;  SKIPPACK; Stati...</td>\n      <td>19426.0</td>\n      <td>EMS: RESPIRATORY EMERGENCY</td>\n      <td>SKIPPACK</td>\n      <td>COLLEGEVILLE RD &amp; LYWISKI RD</td>\n      <td>1</td>\n      <td>EMS</td>\n    </tr>\n    <tr>\n      <th>2015-12-10 16:51:42</th>\n      <td>40.289027</td>\n      <td>-75.399590</td>\n      <td>MAIN ST &amp; OLD SUMNEYTOWN PIKE;  LOWER SALFORD;...</td>\n      <td>19438.0</td>\n      <td>EMS: SYNCOPAL EPISODE</td>\n      <td>LOWER SALFORD</td>\n      <td>MAIN ST &amp; OLD SUMNEYTOWN PIKE</td>\n      <td>1</td>\n      <td>EMS</td>\n    </tr>\n    <tr>\n      <th>2015-12-10 17:35:41</th>\n      <td>40.102398</td>\n      <td>-75.291458</td>\n      <td>BLUEROUTE  &amp; RAMP I476 NB TO CHEMICAL RD; PLYM...</td>\n      <td>19462.0</td>\n      <td>Traffic: VEHICLE ACCIDENT -</td>\n      <td>PLYMOUTH</td>\n      <td>BLUEROUTE  &amp; RAMP I476 NB TO CHEMICAL RD</td>\n      <td>1</td>\n      <td>Traffic</td>\n    </tr>\n  </tbody>\n</table>\n</div>"
     },
     "execution_count": 51,
     "metadata": {},
     "output_type": "execute_result"
    }
   ],
   "source": [
    "df[\"timeStamp\"] = pd.to_datetime(df[\"timeStamp\"]) #转为时间类型\n",
    "\n",
    "# 添加列，表示分类\n",
    "temp_list = df[\"title\"].str.split(\": \").tolist() #二维列表\n",
    "cate_list = [i[0] for i in temp_list] #i[0]就是EMS  Fire  Traffic\n",
    "# print(cate_list)\n",
    "# print(np.array(cate_list).reshape((df.shape[0], 1)))\n",
    " #添加一列\n",
    "df[\"cate\"] = pd.DataFrame(np.array(cate_list).reshape((df.shape[0], 1)))\n",
    "\n",
    "df.set_index(\"timeStamp\", inplace=True) #设置索引，时间戳，inplace=True表示在原df上修改\n",
    "\n",
    "df.head(10)"
   ],
   "metadata": {
    "collapsed": false,
    "ExecuteTime": {
     "end_time": "2024-07-08T03:05:13.845740300Z",
     "start_time": "2024-07-08T03:05:12.474852Z"
    }
   }
  },
  {
   "cell_type": "code",
   "execution_count": 55,
   "outputs": [
    {
     "name": "stdout",
     "output_type": "stream",
     "text": [
      "timeStamp\n",
      "2015-12-01    3898\n",
      "2016-01-01    6063\n",
      "2016-02-01    5413\n",
      "2016-03-01    5832\n",
      "2016-04-01    5684\n",
      "2016-05-01    5730\n",
      "2016-06-01    5720\n",
      "2016-07-01    6029\n",
      "2016-08-01    6005\n",
      "2016-09-01    5750\n",
      "2016-10-01    6039\n",
      "2016-11-01    5838\n",
      "2016-12-01    6024\n",
      "2017-01-01    6082\n",
      "2017-02-01    5417\n",
      "2017-03-01    5913\n",
      "2017-04-01    5780\n",
      "2017-05-01    5948\n",
      "2017-06-01    6030\n",
      "2017-07-01    5974\n",
      "2017-08-01    5882\n",
      "2017-09-01    3789\n",
      "Freq: MS, Name: title, dtype: int64\n",
      "timeStamp\n",
      "2015-12-01    1095\n",
      "2016-01-01    1904\n",
      "2016-02-01    1868\n",
      "2016-03-01    1589\n",
      "2016-04-01    1717\n",
      "2016-05-01    1573\n",
      "2016-06-01    1787\n",
      "2016-07-01    1898\n",
      "2016-08-01    1907\n",
      "2016-09-01    1793\n",
      "2016-10-01    1930\n",
      "2016-11-01    1765\n",
      "2016-12-01    1846\n",
      "2017-01-01    1658\n",
      "2017-02-01    1462\n",
      "2017-03-01    1634\n",
      "2017-04-01    1614\n",
      "2017-05-01    1670\n",
      "2017-06-01    1986\n",
      "2017-07-01    1754\n",
      "2017-08-01    1862\n",
      "2017-09-01    1120\n",
      "Freq: MS, Name: title, dtype: int64\n",
      "timeStamp\n",
      "2015-12-01    2923\n",
      "2016-01-01    5129\n",
      "2016-02-01    4115\n",
      "2016-03-01    3638\n",
      "2016-04-01    3886\n",
      "2016-05-01    4071\n",
      "2016-06-01    4225\n",
      "2016-07-01    4161\n",
      "2016-08-01    3992\n",
      "2016-09-01    4126\n",
      "2016-10-01    4533\n",
      "2016-11-01    4488\n",
      "2016-12-01    4292\n",
      "2017-01-01    3865\n",
      "2017-02-01    3388\n",
      "2017-03-01    4137\n",
      "2017-04-01    3662\n",
      "2017-05-01    4101\n",
      "2017-06-01    4317\n",
      "2017-07-01    4040\n",
      "2017-08-01    4009\n",
      "2017-09-01    2367\n",
      "Freq: MS, Name: title, dtype: int64\n"
     ]
    },
    {
     "data": {
      "text/plain": "<Figure size 1600x640 with 1 Axes>",
      "image/png": "[encoded data removed]"
     },
     "metadata": {},
     "output_type": "display_data"
    }
   ],
   "source": [
    "plt.figure(figsize=(20, 8), dpi=80)\n",
    "\n",
    "# 分组,一图多线\n",
    "#resample降采样，按月统计,索引必须是时间类型，类似groupby\n",
    "for group_name, group_data in df.groupby(by=\"cate\"):\n",
    "    # 对不同的分类都进行绘图，resample降采样，按月统计,索引必须是时间类型，类似groupby\n",
    "    count_by_month = group_data.resample(\"MS\").count()[\"title\"]  #降采样\n",
    "    print(count_by_month)\n",
    "    # 画图\n",
    "    _x = count_by_month.index\n",
    "    # print(_x)\n",
    "    _y = count_by_month.values #values是对应事故发生次数\n",
    "\n",
    "    _x = [i.strftime(\"%Y%m%d\") for i in _x]  #变年月日格式\n",
    "\n",
    "    plt.plot(_x, _y, label=group_name)\n",
    "\n",
    "plt.xticks(range(len(_x)), _x, rotation=45)\n",
    "plt.grid(alpha=0.5)\n",
    "plt.legend(loc=\"best\")\n",
    "plt.show()"
   ],
   "metadata": {
    "collapsed": false,
    "pycharm": {
     "name": "#%%\n"
    },
    "ExecuteTime": {
     "end_time": "2024-07-08T03:13:08.334064900Z",
     "start_time": "2024-07-08T03:13:07.134841700Z"
    }
   }
  },
  {
   "cell_type": "markdown",
   "source": [
    "# pm2.5 实战"
   ],
   "metadata": {
    "collapsed": false
   }
  },
  {
   "cell_type": "code",
   "execution_count": 73,
   "outputs": [
    {
     "name": "stdout",
     "output_type": "stream",
     "text": [
      "No                     int64\n",
      "year                   int64\n",
      "month                  int64\n",
      "day                    int64\n",
      "hour                   int64\n",
      "season                 int64\n",
      "PM_Dongsi            float64\n",
      "PM_Dongsihuan        float64\n",
      "PM_Nongzhanguan      float64\n",
      "PM_US Post           float64\n",
      "DEWP                 float64\n",
      "HUMI                 float64\n",
      "PRES                 float64\n",
      "TEMP                 float64\n",
      "cbwd                  object\n",
      "Iws                  float64\n",
      "precipitation        float64\n",
      "Iprec                float64\n",
      "datetime           period[h]\n",
      "dtype: object\n"
     ]
    },
    {
     "data": {
      "text/plain": "    No  year  month  day  hour  season  PM_Dongsi  PM_Dongsihuan  \\\n0    1  2010      1    1     0       4        NaN            NaN   \n1    2  2010      1    1     1       4        NaN            NaN   \n2    3  2010      1    1     2       4        NaN            NaN   \n3    4  2010      1    1     3       4        NaN            NaN   \n4    5  2010      1    1     4       4        NaN            NaN   \n5    6  2010      1    1     5       4        NaN            NaN   \n6    7  2010      1    1     6       4        NaN            NaN   \n7    8  2010      1    1     7       4        NaN            NaN   \n8    9  2010      1    1     8       4        NaN            NaN   \n9   10  2010      1    1     9       4        NaN            NaN   \n10  11  2010      1    1    10       4        NaN            NaN   \n11  12  2010      1    1    11       4        NaN            NaN   \n12  13  2010      1    1    12       4        NaN            NaN   \n13  14  2010      1    1    13       4        NaN            NaN   \n14  15  2010      1    1    14       4        NaN            NaN   \n15  16  2010      1    1    15       4        NaN            NaN   \n16  17  2010      1    1    16       4        NaN            NaN   \n17  18  2010      1    1    17       4        NaN            NaN   \n18  19  2010      1    1    18       4        NaN            NaN   \n19  20  2010      1    1    19       4        NaN            NaN   \n20  21  2010      1    1    20       4        NaN            NaN   \n21  22  2010      1    1    21       4        NaN            NaN   \n22  23  2010      1    1    22       4        NaN            NaN   \n23  24  2010      1    1    23       4        NaN            NaN   \n24  25  2010      1    2     0       4        NaN            NaN   \n25  26  2010      1    2     1       4        NaN            NaN   \n26  27  2010      1    2     2       4        NaN            NaN   \n27  28  2010      1    2     3       4        NaN            NaN   \n28  29  2010      1    2     4       4        NaN            NaN   \n29  30  2010      1    2     5       4        NaN            NaN   \n\n    PM_Nongzhanguan  PM_US Post  DEWP  HUMI    PRES  TEMP cbwd    Iws  \\\n0               NaN         NaN -21.0  43.0  1021.0 -11.0   NW   1.79   \n1               NaN         NaN -21.0  47.0  1020.0 -12.0   NW   4.92   \n2               NaN         NaN -21.0  43.0  1019.0 -11.0   NW   6.71   \n3               NaN         NaN -21.0  55.0  1019.0 -14.0   NW   9.84   \n4               NaN         NaN -20.0  51.0  1018.0 -12.0   NW  12.97   \n5               NaN         NaN -19.0  47.0  1017.0 -10.0   NW  16.10   \n6               NaN         NaN -19.0  44.0  1017.0  -9.0   NW  19.23   \n7               NaN         NaN -19.0  44.0  1017.0  -9.0   NW  21.02   \n8               NaN         NaN -19.0  44.0  1017.0  -9.0   NW  24.15   \n9               NaN         NaN -20.0  37.0  1017.0  -8.0   NW  27.28   \n10              NaN         NaN -19.0  37.0  1017.0  -7.0   NW  31.30   \n11              NaN         NaN -18.0  35.0  1017.0  -5.0   NW  34.43   \n12              NaN         NaN -19.0  32.0  1015.0  -5.0   NW  37.56   \n13              NaN         NaN -18.0  30.0  1015.0  -3.0   NW  40.69   \n14              NaN         NaN -18.0  28.0  1014.0  -2.0   NW  43.82   \n15              NaN         NaN -18.0  26.0  1014.0  -1.0   cv   0.89   \n16              NaN         NaN -19.0  25.0  1015.0  -2.0   NW   1.79   \n17              NaN         NaN -18.0  30.0  1015.0  -3.0   NW   2.68   \n18              NaN         NaN -18.0  35.0  1016.0  -5.0   NE   1.79   \n19              NaN         NaN -17.0  35.0  1017.0  -4.0   NW   1.79   \n20              NaN         NaN -17.0  38.0  1017.0  -5.0   cv   0.89   \n21              NaN         NaN -17.0  38.0  1018.0  -5.0   NW   1.79   \n22              NaN         NaN -17.0  38.0  1018.0  -5.0   NW   2.68   \n23              NaN       129.0 -17.0  41.0  1020.0  -5.0   cv   0.89   \n24              NaN       148.0 -16.0  38.0  1020.0  -4.0   SE   1.79   \n25              NaN       159.0 -15.0  42.0  1020.0  -4.0   SE   2.68   \n26              NaN       181.0 -11.0  63.5  1021.0  -5.0   SE   3.57   \n27              NaN       138.0  -7.0  85.0  1022.0  -5.0   SE   5.36   \n28              NaN       109.0  -7.0  85.0  1022.0  -5.0   SE   6.25   \n29              NaN       105.0  -7.0  92.0  1022.0  -6.0   SE   7.14   \n\n    precipitation  Iprec          datetime  \n0             0.0    0.0  2010-01-01 00:00  \n1             0.0    0.0  2010-01-01 01:00  \n2             0.0    0.0  2010-01-01 02:00  \n3             0.0    0.0  2010-01-01 03:00  \n4             0.0    0.0  2010-01-01 04:00  \n5             0.0    0.0  2010-01-01 05:00  \n6             0.0    0.0  2010-01-01 06:00  \n7             0.0    0.0  2010-01-01 07:00  \n8             0.0    0.0  2010-01-01 08:00  \n9             0.0    0.0  2010-01-01 09:00  \n10            0.0    0.0  2010-01-01 10:00  \n11            0.0    0.0  2010-01-01 11:00  \n12            0.0    0.0  2010-01-01 12:00  \n13            0.0    0.0  2010-01-01 13:00  \n14            0.0    0.0  2010-01-01 14:00  \n15            0.0    0.0  2010-01-01 15:00  \n16            0.0    0.0  2010-01-01 16:00  \n17            0.0    0.0  2010-01-01 17:00  \n18            0.0    0.0  2010-01-01 18:00  \n19            0.0    0.0  2010-01-01 19:00  \n20            0.0    0.0  2010-01-01 20:00  \n21            0.0    0.0  2010-01-01 21:00  \n22            0.0    0.0  2010-01-01 22:00  \n23            0.0    0.0  2010-01-01 23:00  \n24            0.0    0.0  2010-01-02 00:00  \n25            0.0    0.0  2010-01-02 01:00  \n26            0.0    0.0  2010-01-02 02:00  \n27            0.0    0.0  2010-01-02 03:00  \n28            0.0    0.0  2010-01-02 04:00  \n29            0.0    0.0  2010-01-02 05:00  ",
      "text/html": "<div>\n<style scoped>\n    .dataframe tbody tr th:only-of-type {\n        vertical-align: middle;\n    }\n\n    .dataframe tbody tr th {\n        vertical-align: top;\n    }\n\n    .dataframe thead th {\n        text-align: right;\n    }\n</style>\n<table border=\"1\" class=\"dataframe\">\n  <thead>\n    <tr style=\"text-align: right;\">\n      <th></th>\n      <th>No</th>\n      <th>year</th>\n      <th>month</th>\n      <th>day</th>\n      <th>hour</th>\n      <th>season</th>\n      <th>PM_Dongsi</th>\n      <th>PM_Dongsihuan</th>\n      <th>PM_Nongzhanguan</th>\n      <th>PM_US Post</th>\n      <th>DEWP</th>\n      <th>HUMI</th>\n      <th>PRES</th>\n      <th>TEMP</th>\n      <th>cbwd</th>\n      <th>Iws</th>\n      <th>precipitation</th>\n      <th>Iprec</th>\n      <th>datetime</th>\n    </tr>\n  </thead>\n  <tbody>\n    <tr>\n      <th>0</th>\n      <td>1</td>\n      <td>2010</td>\n      <td>1</td>\n      <td>1</td>\n      <td>0</td>\n      <td>4</td>\n      <td>NaN</td>\n      <td>NaN</td>\n      <td>NaN</td>\n      <td>NaN</td>\n      <td>-21.0</td>\n      <td>43.0</td>\n      <td>1021.0</td>\n      <td>-11.0</td>\n      <td>NW</td>\n      <td>1.79</td>\n      <td>0.0</td>\n      <td>0.0</td>\n      <td>2010-01-01 00:00</td>\n    </tr>\n    <tr>\n      <th>1</th>\n      <td>2</td>\n      <td>2010</td>\n      <td>1</td>\n      <td>1</td>\n      <td>1</td>\n      <td>4</td>\n      <td>NaN</td>\n      <td>NaN</td>\n      <td>NaN</td>\n      <td>NaN</td>\n      <td>-21.0</td>\n      <td>47.0</td>\n      <td>1020.0</td>\n      <td>-12.0</td>\n      <td>NW</td>\n      <td>4.92</td>\n      <td>0.0</td>\n      <td>0.0</td>\n      <td>2010-01-01 01:00</td>\n    </tr>\n    <tr>\n      <th>2</th>\n      <td>3</td>\n      <td>2010</td>\n      <td>1</td>\n      <td>1</td>\n      <td>2</td>\n      <td>4</td>\n      <td>NaN</td>\n      <td>NaN</td>\n      <td>NaN</td>\n      <td>NaN</td>\n      <td>-21.0</td>\n      <td>43.0</td>\n      <td>1019.0</td>\n      <td>-11.0</td>\n      <td>NW</td>\n      <td>6.71</td>\n      <td>0.0</td>\n      <td>0.0</td>\n      <td>2010-01-01 02:00</td>\n    </tr>\n    <tr>\n      <th>3</th>\n      <td>4</td>\n      <td>2010</td>\n      <td>1</td>\n      <td>1</td>\n      <td>3</td>\n      <td>4</td>\n      <td>NaN</td>\n      <td>NaN</td>\n      <td>NaN</td>\n      <td>NaN</td>\n      <td>-21.0</td>\n      <td>55.0</td>\n      <td>1019.0</td>\n      <td>-14.0</td>\n      <td>NW</td>\n      <td>9.84</td>\n      <td>0.0</td>\n      <td>0.0</td>\n      <td>2010-01-01 03:00</td>\n    </tr>\n    <tr>\n      <th>4</th>\n      <td>5</td>\n      <td>2010</td>\n      <td>1</td>\n      <td>1</td>\n      <td>4</td>\n      <td>4</td>\n      <td>NaN</td>\n      <td>NaN</td>\n      <td>NaN</td>\n      <td>NaN</td>\n      <td>-20.0</td>\n      <td>51.0</td>\n      <td>1018.0</td>\n      <td>-12.0</td>\n      <td>NW</td>\n      <td>12.97</td>\n      <td>0.0</td>\n      <td>0.0</td>\n      <td>2010-01-01 04:00</td>\n    </tr>\n    <tr>\n      <th>5</th>\n      <td>6</td>\n      <td>2010</td>\n      <td>1</td>\n      <td>1</td>\n      <td>5</td>\n      <td>4</td>\n      <td>NaN</td>\n      <td>NaN</td>\n      <td>NaN</td>\n      <td>NaN</td>\n      <td>-19.0</td>\n      <td>47.0</td>\n      <td>1017.0</td>\n      <td>-10.0</td>\n      <td>NW</td>\n      <td>16.10</td>\n      <td>0.0</td>\n      <td>0.0</td>\n      <td>2010-01-01 05:00</td>\n    </tr>\n    <tr>\n      <th>6</th>\n      <td>7</td>\n      <td>2010</td>\n      <td>1</td>\n      <td>1</td>\n      <td>6</td>\n      <td>4</td>\n      <td>NaN</td>\n      <td>NaN</td>\n      <td>NaN</td>\n      <td>NaN</td>\n      <td>-19.0</td>\n      <td>44.0</td>\n      <td>1017.0</td>\n      <td>-9.0</td>\n      <td>NW</td>\n      <td>19.23</td>\n      <td>0.0</td>\n      <td>0.0</td>\n      <td>2010-01-01 06:00</td>\n    </tr>\n    <tr>\n      <th>7</th>\n      <td>8</td>\n      <td>2010</td>\n      <td>1</td>\n      <td>1</td>\n      <td>7</td>\n      <td>4</td>\n      <td>NaN</td>\n      <td>NaN</td>\n      <td>NaN</td>\n      <td>NaN</td>\n      <td>-19.0</td>\n      <td>44.0</td>\n      <td>1017.0</td>\n      <td>-9.0</td>\n      <td>NW</td>\n      <td>21.02</td>\n      <td>0.0</td>\n      <td>0.0</td>\n      <td>2010-01-01 07:00</td>\n    </tr>\n    <tr>\n      <th>8</th>\n      <td>9</td>\n      <td>2010</td>\n      <td>1</td>\n      <td>1</td>\n      <td>8</td>\n      <td>4</td>\n      <td>NaN</td>\n      <td>NaN</td>\n      <td>NaN</td>\n      <td>NaN</td>\n      <td>-19.0</td>\n      <td>44.0</td>\n      <td>1017.0</td>\n      <td>-9.0</td>\n      <td>NW</td>\n      <td>24.15</td>\n      <td>0.0</td>\n      <td>0.0</td>\n      <td>2010-01-01 08:00</td>\n    </tr>\n    <tr>\n      <th>9</th>\n      <td>10</td>\n      <td>2010</td>\n      <td>1</td>\n      <td>1</td>\n      <td>9</td>\n      <td>4</td>\n      <td>NaN</td>\n      <td>NaN</td>\n      <td>NaN</td>\n      <td>NaN</td>\n      <td>-20.0</td>\n      <td>37.0</td>\n      <td>1017.0</td>\n      <td>-8.0</td>\n      <td>NW</td>\n      <td>27.28</td>\n      <td>0.0</td>\n      <td>0.0</td>\n      <td>2010-01-01 09:00</td>\n    </tr>\n    <tr>\n      <th>10</th>\n      <td>11</td>\n      <td>2010</td>\n      <td>1</td>\n      <td>1</td>\n      <td>10</td>\n      <td>4</td>\n      <td>NaN</td>\n      <td>NaN</td>\n      <td>NaN</td>\n      <td>NaN</td>\n      <td>-19.0</td>\n      <td>37.0</td>\n      <td>1017.0</td>\n      <td>-7.0</td>\n      <td>NW</td>\n      <td>31.30</td>\n      <td>0.0</td>\n      <td>0.0</td>\n      <td>2010-01-01 10:00</td>\n    </tr>\n    <tr>\n      <th>11</th>\n      <td>12</td>\n      <td>2010</td>\n      <td>1</td>\n      <td>1</td>\n      <td>11</td>\n      <td>4</td>\n      <td>NaN</td>\n      <td>NaN</td>\n      <td>NaN</td>\n      <td>NaN</td>\n      <td>-18.0</td>\n      <td>35.0</td>\n      <td>1017.0</td>\n      <td>-5.0</td>\n      <td>NW</td>\n      <td>34.43</td>\n      <td>0.0</td>\n      <td>0.0</td>\n      <td>2010-01-01 11:00</td>\n    </tr>\n    <tr>\n      <th>12</th>\n      <td>13</td>\n      <td>2010</td>\n      <td>1</td>\n      <td>1</td>\n      <td>12</td>\n      <td>4</td>\n      <td>NaN</td>\n      <td>NaN</td>\n      <td>NaN</td>\n      <td>NaN</td>\n      <td>-19.0</td>\n      <td>32.0</td>\n      <td>1015.0</td>\n      <td>-5.0</td>\n      <td>NW</td>\n      <td>37.56</td>\n      <td>0.0</td>\n      <td>0.0</td>\n      <td>2010-01-01 12:00</td>\n    </tr>\n    <tr>\n      <th>13</th>\n      <td>14</td>\n      <td>2010</td>\n      <td>1</td>\n      <td>1</td>\n      <td>13</td>\n      <td>4</td>\n      <td>NaN</td>\n      <td>NaN</td>\n      <td>NaN</td>\n      <td>NaN</td>\n      <td>-18.0</td>\n      <td>30.0</td>\n      <td>1015.0</td>\n      <td>-3.0</td>\n      <td>NW</td>\n      <td>40.69</td>\n      <td>0.0</td>\n      <td>0.0</td>\n      <td>2010-01-01 13:00</td>\n    </tr>\n    <tr>\n      <th>14</th>\n      <td>15</td>\n      <td>2010</td>\n      <td>1</td>\n      <td>1</td>\n      <td>14</td>\n      <td>4</td>\n      <td>NaN</td>\n      <td>NaN</td>\n      <td>NaN</td>\n      <td>NaN</td>\n      <td>-18.0</td>\n      <td>28.0</td>\n      <td>1014.0</td>\n      <td>-2.0</td>\n      <td>NW</td>\n      <td>43.82</td>\n      <td>0.0</td>\n      <td>0.0</td>\n      <td>2010-01-01 14:00</td>\n    </tr>\n    <tr>\n      <th>15</th>\n      <td>16</td>\n      <td>2010</td>\n      <td>1</td>\n      <td>1</td>\n      <td>15</td>\n      <td>4</td>\n      <td>NaN</td>\n      <td>NaN</td>\n      <td>NaN</td>\n      <td>NaN</td>\n      <td>-18.0</td>\n      <td>26.0</td>\n      <td>1014.0</td>\n      <td>-1.0</td>\n      <td>cv</td>\n      <td>0.89</td>\n      <td>0.0</td>\n      <td>0.0</td>\n      <td>2010-01-01 15:00</td>\n    </tr>\n    <tr>\n      <th>16</th>\n      <td>17</td>\n      <td>2010</td>\n      <td>1</td>\n      <td>1</td>\n      <td>16</td>\n      <td>4</td>\n      <td>NaN</td>\n      <td>NaN</td>\n      <td>NaN</td>\n      <td>NaN</td>\n      <td>-19.0</td>\n      <td>25.0</td>\n      <td>1015.0</td>\n      <td>-2.0</td>\n      <td>NW</td>\n      <td>1.79</td>\n      <td>0.0</td>\n      <td>0.0</td>\n      <td>2010-01-01 16:00</td>\n    </tr>\n    <tr>\n      <th>17</th>\n      <td>18</td>\n      <td>2010</td>\n      <td>1</td>\n      <td>1</td>\n      <td>17</td>\n      <td>4</td>\n      <td>NaN</td>\n      <td>NaN</td>\n      <td>NaN</td>\n      <td>NaN</td>\n      <td>-18.0</td>\n      <td>30.0</td>\n      <td>1015.0</td>\n      <td>-3.0</td>\n      <td>NW</td>\n      <td>2.68</td>\n      <td>0.0</td>\n      <td>0.0</td>\n      <td>2010-01-01 17:00</td>\n    </tr>\n    <tr>\n      <th>18</th>\n      <td>19</td>\n      <td>2010</td>\n      <td>1</td>\n      <td>1</td>\n      <td>18</td>\n      <td>4</td>\n      <td>NaN</td>\n      <td>NaN</td>\n      <td>NaN</td>\n      <td>NaN</td>\n      <td>-18.0</td>\n      <td>35.0</td>\n      <td>1016.0</td>\n      <td>-5.0</td>\n      <td>NE</td>\n      <td>1.79</td>\n      <td>0.0</td>\n      <td>0.0</td>\n      <td>2010-01-01 18:00</td>\n    </tr>\n    <tr>\n      <th>19</th>\n      <td>20</td>\n      <td>2010</td>\n      <td>1</td>\n      <td>1</td>\n      <td>19</td>\n      <td>4</td>\n      <td>NaN</td>\n      <td>NaN</td>\n      <td>NaN</td>\n      <td>NaN</td>\n      <td>-17.0</td>\n      <td>35.0</td>\n      <td>1017.0</td>\n      <td>-4.0</td>\n      <td>NW</td>\n      <td>1.79</td>\n      <td>0.0</td>\n      <td>0.0</td>\n      <td>2010-01-01 19:00</td>\n    </tr>\n    <tr>\n      <th>20</th>\n      <td>21</td>\n      <td>2010</td>\n      <td>1</td>\n      <td>1</td>\n      <td>20</td>\n      <td>4</td>\n      <td>NaN</td>\n      <td>NaN</td>\n      <td>NaN</td>\n      <td>NaN</td>\n      <td>-17.0</td>\n      <td>38.0</td>\n      <td>1017.0</td>\n      <td>-5.0</td>\n      <td>cv</td>\n      <td>0.89</td>\n      <td>0.0</td>\n      <td>0.0</td>\n      <td>2010-01-01 20:00</td>\n    </tr>\n    <tr>\n      <th>21</th>\n      <td>22</td>\n      <td>2010</td>\n      <td>1</td>\n      <td>1</td>\n      <td>21</td>\n      <td>4</td>\n      <td>NaN</td>\n      <td>NaN</td>\n      <td>NaN</td>\n      <td>NaN</td>\n      <td>-17.0</td>\n      <td>38.0</td>\n      <td>1018.0</td>\n      <td>-5.0</td>\n      <td>NW</td>\n      <td>1.79</td>\n      <td>0.0</td>\n      <td>0.0</td>\n      <td>2010-01-01 21:00</td>\n    </tr>\n    <tr>\n      <th>22</th>\n      <td>23</td>\n      <td>2010</td>\n      <td>1</td>\n      <td>1</td>\n      <td>22</td>\n      <td>4</td>\n      <td>NaN</td>\n      <td>NaN</td>\n      <td>NaN</td>\n      <td>NaN</td>\n      <td>-17.0</td>\n      <td>38.0</td>\n      <td>1018.0</td>\n      <td>-5.0</td>\n      <td>NW</td>\n      <td>2.68</td>\n      <td>0.0</td>\n      <td>0.0</td>\n      <td>2010-01-01 22:00</td>\n    </tr>\n    <tr>\n      <th>23</th>\n      <td>24</td>\n      <td>2010</td>\n      <td>1</td>\n      <td>1</td>\n      <td>23</td>\n      <td>4</td>\n      <td>NaN</td>\n      <td>NaN</td>\n      <td>NaN</td>\n      <td>129.0</td>\n      <td>-17.0</td>\n      <td>41.0</td>\n      <td>1020.0</td>\n      <td>-5.0</td>\n      <td>cv</td>\n      <td>0.89</td>\n      <td>0.0</td>\n      <td>0.0</td>\n      <td>2010-01-01 23:00</td>\n    </tr>\n    <tr>\n      <th>24</th>\n      <td>25</td>\n      <td>2010</td>\n      <td>1</td>\n      <td>2</td>\n      <td>0</td>\n      <td>4</td>\n      <td>NaN</td>\n      <td>NaN</td>\n      <td>NaN</td>\n      <td>148.0</td>\n      <td>-16.0</td>\n      <td>38.0</td>\n      <td>1020.0</td>\n      <td>-4.0</td>\n      <td>SE</td>\n      <td>1.79</td>\n      <td>0.0</td>\n      <td>0.0</td>\n      <td>2010-01-02 00:00</td>\n    </tr>\n    <tr>\n      <th>25</th>\n      <td>26</td>\n      <td>2010</td>\n      <td>1</td>\n      <td>2</td>\n      <td>1</td>\n      <td>4</td>\n      <td>NaN</td>\n      <td>NaN</td>\n      <td>NaN</td>\n      <td>159.0</td>\n      <td>-15.0</td>\n      <td>42.0</td>\n      <td>1020.0</td>\n      <td>-4.0</td>\n      <td>SE</td>\n      <td>2.68</td>\n      <td>0.0</td>\n      <td>0.0</td>\n      <td>2010-01-02 01:00</td>\n    </tr>\n    <tr>\n      <th>26</th>\n      <td>27</td>\n      <td>2010</td>\n      <td>1</td>\n      <td>2</td>\n      <td>2</td>\n      <td>4</td>\n      <td>NaN</td>\n      <td>NaN</td>\n      <td>NaN</td>\n      <td>181.0</td>\n      <td>-11.0</td>\n      <td>63.5</td>\n      <td>1021.0</td>\n      <td>-5.0</td>\n      <td>SE</td>\n      <td>3.57</td>\n      <td>0.0</td>\n      <td>0.0</td>\n      <td>2010-01-02 02:00</td>\n    </tr>\n    <tr>\n      <th>27</th>\n      <td>28</td>\n      <td>2010</td>\n      <td>1</td>\n      <td>2</td>\n      <td>3</td>\n      <td>4</td>\n      <td>NaN</td>\n      <td>NaN</td>\n      <td>NaN</td>\n      <td>138.0</td>\n      <td>-7.0</td>\n      <td>85.0</td>\n      <td>1022.0</td>\n      <td>-5.0</td>\n      <td>SE</td>\n      <td>5.36</td>\n      <td>0.0</td>\n      <td>0.0</td>\n      <td>2010-01-02 03:00</td>\n    </tr>\n    <tr>\n      <th>28</th>\n      <td>29</td>\n      <td>2010</td>\n      <td>1</td>\n      <td>2</td>\n      <td>4</td>\n      <td>4</td>\n      <td>NaN</td>\n      <td>NaN</td>\n      <td>NaN</td>\n      <td>109.0</td>\n      <td>-7.0</td>\n      <td>85.0</td>\n      <td>1022.0</td>\n      <td>-5.0</td>\n      <td>SE</td>\n      <td>6.25</td>\n      <td>0.0</td>\n      <td>0.0</td>\n      <td>2010-01-02 04:00</td>\n    </tr>\n    <tr>\n      <th>29</th>\n      <td>30</td>\n      <td>2010</td>\n      <td>1</td>\n      <td>2</td>\n      <td>5</td>\n      <td>4</td>\n      <td>NaN</td>\n      <td>NaN</td>\n      <td>NaN</td>\n      <td>105.0</td>\n      <td>-7.0</td>\n      <td>92.0</td>\n      <td>1022.0</td>\n      <td>-6.0</td>\n      <td>SE</td>\n      <td>7.14</td>\n      <td>0.0</td>\n      <td>0.0</td>\n      <td>2010-01-02 05:00</td>\n    </tr>\n  </tbody>\n</table>\n</div>"
     },
     "execution_count": 73,
     "metadata": {},
     "output_type": "execute_result"
    }
   ],
   "source": [
    "import pandas as pd\n",
    "file_path = \"./PM2.5/BeijingPM20100101_20151231.csv\"\n",
    "\n",
    "df = pd.read_csv(file_path)\n",
    "# print(df.head(10))\n",
    "\n",
    "# 把分开的时间字符串通过periodIndex的方法转化为pandas的时间类型\n",
    "period = pd.PeriodIndex.from_fields(year=df[\"year\"], month=df[\"month\"], day=df[\"day\"],\n",
    "                        hour=df[\"hour\"], freq=\"h\")\n",
    "df[\"datetime\"] = period\n",
    "print(df.dtypes)\n",
    "df.head(30)"
   ],
   "metadata": {
    "collapsed": false,
    "pycharm": {
     "name": "#%%\n"
    },
    "ExecuteTime": {
     "end_time": "2024-07-08T03:30:08.308512Z",
     "start_time": "2024-07-08T03:30:07.969701600Z"
    }
   }
  },
  {
   "cell_type": "code",
   "execution_count": 68,
   "outputs": [
    {
     "name": "stdout",
     "output_type": "stream",
     "text": [
      "<class 'pandas.core.frame.DataFrame'>\n",
      "RangeIndex: 52584 entries, 0 to 52583\n",
      "Data columns (total 19 columns):\n",
      " #   Column           Non-Null Count  Dtype    \n",
      "---  ------           --------------  -----    \n",
      " 0   No               52584 non-null  int64    \n",
      " 1   year             52584 non-null  int64    \n",
      " 2   month            52584 non-null  int64    \n",
      " 3   day              52584 non-null  int64    \n",
      " 4   hour             52584 non-null  int64    \n",
      " 5   season           52584 non-null  int64    \n",
      " 6   PM_Dongsi        25052 non-null  float64  \n",
      " 7   PM_Dongsihuan    20508 non-null  float64  \n",
      " 8   PM_Nongzhanguan  24931 non-null  float64  \n",
      " 9   PM_US Post       50387 non-null  float64  \n",
      " 10  DEWP             52579 non-null  float64  \n",
      " 11  HUMI             52245 non-null  float64  \n",
      " 12  PRES             52245 non-null  float64  \n",
      " 13  TEMP             52579 non-null  float64  \n",
      " 14  cbwd             52579 non-null  object   \n",
      " 15  Iws              52579 non-null  float64  \n",
      " 16  precipitation    52100 non-null  float64  \n",
      " 17  Iprec            52100 non-null  float64  \n",
      " 18  datetime         52584 non-null  period[h]\n",
      "dtypes: float64(11), int64(6), object(1), period[h](1)\n",
      "memory usage: 7.6+ MB\n"
     ]
    }
   ],
   "source": [
    "df.info()"
   ],
   "metadata": {
    "collapsed": false,
    "ExecuteTime": {
     "end_time": "2024-07-08T03:25:24.735509200Z",
     "start_time": "2024-07-08T03:25:24.708897500Z"
    }
   }
  },
  {
   "cell_type": "code",
   "execution_count": 76,
   "outputs": [
    {
     "data": {
      "text/plain": "   No  year  month  day  hour  season  PM_Dongsi  PM_Dongsihuan  \\\n0   1  2010      1    1     0       4        NaN            NaN   \n1   2  2010      1    1     1       4        NaN            NaN   \n2   3  2010      1    1     2       4        NaN            NaN   \n3   4  2010      1    1     3       4        NaN            NaN   \n4   5  2010      1    1     4       4        NaN            NaN   \n\n   PM_Nongzhanguan  PM_US Post  ...  HUMI    PRES  TEMP  cbwd    Iws  \\\n0              NaN         NaN  ...  43.0  1021.0 -11.0    NW   1.79   \n1              NaN         NaN  ...  47.0  1020.0 -12.0    NW   4.92   \n2              NaN         NaN  ...  43.0  1019.0 -11.0    NW   6.71   \n3              NaN         NaN  ...  55.0  1019.0 -14.0    NW   9.84   \n4              NaN         NaN  ...  51.0  1018.0 -12.0    NW  12.97   \n\n   precipitation  Iprec          datetime  date_str       date  \n0            0.0    0.0  2010-01-01 00:00  2010-1-1 2010-01-01  \n1            0.0    0.0  2010-01-01 01:00  2010-1-1 2010-01-01  \n2            0.0    0.0  2010-01-01 02:00  2010-1-1 2010-01-01  \n3            0.0    0.0  2010-01-01 03:00  2010-1-1 2010-01-01  \n4            0.0    0.0  2010-01-01 04:00  2010-1-1 2010-01-01  \n\n[5 rows x 21 columns]",
      "text/html": "<div>\n<style scoped>\n    .dataframe tbody tr th:only-of-type {\n        vertical-align: middle;\n    }\n\n    .dataframe tbody tr th {\n        vertical-align: top;\n    }\n\n    .dataframe thead th {\n        text-align: right;\n    }\n</style>\n<table border=\"1\" class=\"dataframe\">\n  <thead>\n    <tr style=\"text-align: right;\">\n      <th></th>\n      <th>No</th>\n      <th>year</th>\n      <th>month</th>\n      <th>day</th>\n      <th>hour</th>\n      <th>season</th>\n      <th>PM_Dongsi</th>\n      <th>PM_Dongsihuan</th>\n      <th>PM_Nongzhanguan</th>\n      <th>PM_US Post</th>\n      <th>...</th>\n      <th>HUMI</th>\n      <th>PRES</th>\n      <th>TEMP</th>\n      <th>cbwd</th>\n      <th>Iws</th>\n      <th>precipitation</th>\n      <th>Iprec</th>\n      <th>datetime</th>\n      <th>date_str</th>\n      <th>date</th>\n    </tr>\n  </thead>\n  <tbody>\n    <tr>\n      <th>0</th>\n      <td>1</td>\n      <td>2010</td>\n      <td>1</td>\n      <td>1</td>\n      <td>0</td>\n      <td>4</td>\n      <td>NaN</td>\n      <td>NaN</td>\n      <td>NaN</td>\n      <td>NaN</td>\n      <td>...</td>\n      <td>43.0</td>\n      <td>1021.0</td>\n      <td>-11.0</td>\n      <td>NW</td>\n      <td>1.79</td>\n      <td>0.0</td>\n      <td>0.0</td>\n      <td>2010-01-01 00:00</td>\n      <td>2010-1-1</td>\n      <td>2010-01-01</td>\n    </tr>\n    <tr>\n      <th>1</th>\n      <td>2</td>\n      <td>2010</td>\n      <td>1</td>\n      <td>1</td>\n      <td>1</td>\n      <td>4</td>\n      <td>NaN</td>\n      <td>NaN</td>\n      <td>NaN</td>\n      <td>NaN</td>\n      <td>...</td>\n      <td>47.0</td>\n      <td>1020.0</td>\n      <td>-12.0</td>\n      <td>NW</td>\n      <td>4.92</td>\n      <td>0.0</td>\n      <td>0.0</td>\n      <td>2010-01-01 01:00</td>\n      <td>2010-1-1</td>\n      <td>2010-01-01</td>\n    </tr>\n    <tr>\n      <th>2</th>\n      <td>3</td>\n      <td>2010</td>\n      <td>1</td>\n      <td>1</td>\n      <td>2</td>\n      <td>4</td>\n      <td>NaN</td>\n      <td>NaN</td>\n      <td>NaN</td>\n      <td>NaN</td>\n      <td>...</td>\n      <td>43.0</td>\n      <td>1019.0</td>\n      <td>-11.0</td>\n      <td>NW</td>\n      <td>6.71</td>\n      <td>0.0</td>\n      <td>0.0</td>\n      <td>2010-01-01 02:00</td>\n      <td>2010-1-1</td>\n      <td>2010-01-01</td>\n    </tr>\n    <tr>\n      <th>3</th>\n      <td>4</td>\n      <td>2010</td>\n      <td>1</td>\n      <td>1</td>\n      <td>3</td>\n      <td>4</td>\n      <td>NaN</td>\n      <td>NaN</td>\n      <td>NaN</td>\n      <td>NaN</td>\n      <td>...</td>\n      <td>55.0</td>\n      <td>1019.0</td>\n      <td>-14.0</td>\n      <td>NW</td>\n      <td>9.84</td>\n      <td>0.0</td>\n      <td>0.0</td>\n      <td>2010-01-01 03:00</td>\n      <td>2010-1-1</td>\n      <td>2010-01-01</td>\n    </tr>\n    <tr>\n      <th>4</th>\n      <td>5</td>\n      <td>2010</td>\n      <td>1</td>\n      <td>1</td>\n      <td>4</td>\n      <td>4</td>\n      <td>NaN</td>\n      <td>NaN</td>\n      <td>NaN</td>\n      <td>NaN</td>\n      <td>...</td>\n      <td>51.0</td>\n      <td>1018.0</td>\n      <td>-12.0</td>\n      <td>NW</td>\n      <td>12.97</td>\n      <td>0.0</td>\n      <td>0.0</td>\n      <td>2010-01-01 04:00</td>\n      <td>2010-1-1</td>\n      <td>2010-01-01</td>\n    </tr>\n  </tbody>\n</table>\n<p>5 rows × 21 columns</p>\n</div>"
     },
     "execution_count": 76,
     "metadata": {},
     "output_type": "execute_result"
    }
   ],
   "source": [
    "\n",
    "df['date_str'] = df['year'].astype(str) + '-' + df['month'].astype(str) + '-' + df['day'].astype(str)\n",
    "\n",
    "# 将拼接的字符串列转换为日期时间格式\n",
    "df['date'] = pd.to_datetime(df['date_str'])\n",
    "\n",
    "df.head()"
   ],
   "metadata": {
    "collapsed": false,
    "ExecuteTime": {
     "end_time": "2024-07-08T03:32:03.032111800Z",
     "start_time": "2024-07-08T03:32:02.844640300Z"
    }
   }
  },
  {
   "cell_type": "code",
   "execution_count": null,
   "outputs": [],
   "source": [],
   "metadata": {
    "collapsed": false
   }
  },
  {
   "cell_type": "code",
   "execution_count": 77,
   "outputs": [],
   "source": [
    "\n",
    "# 把datetime 设置为行索引\n",
    "df.set_index(\"date\", inplace=True)"
   ],
   "metadata": {
    "collapsed": false,
    "pycharm": {
     "name": "#%%\n"
    },
    "ExecuteTime": {
     "end_time": "2024-07-08T03:32:17.248621600Z",
     "start_time": "2024-07-08T03:32:17.236633100Z"
    }
   }
  },
  {
   "cell_type": "code",
   "execution_count": 79,
   "outputs": [
    {
     "data": {
      "text/plain": "               No    year     month        day  hour  season  PM_Dongsi  \\\ndate                                                                      \n2010-01-01   84.5  2010.0  1.000000   4.000000  11.5     4.0        NaN   \n2010-01-08  252.5  2010.0  1.000000  11.000000  11.5     4.0        NaN   \n2010-01-15  420.5  2010.0  1.000000  18.000000  11.5     4.0        NaN   \n2010-01-22  588.5  2010.0  1.000000  25.000000  11.5     4.0        NaN   \n2010-01-29  756.5  2010.0  1.571429  14.285714  11.5     4.0        NaN   \n\n            PM_Dongsihuan  PM_Nongzhanguan  PM_US Post       DEWP       HUMI  \\\ndate                                                                           \n2010-01-01            NaN              NaN   71.627586 -18.255952  54.395833   \n2010-01-08            NaN              NaN   69.910714 -19.035714  49.386905   \n2010-01-15            NaN              NaN  163.654762 -12.630952  57.755952   \n2010-01-22            NaN              NaN   68.069307 -17.404762  34.095238   \n2010-01-29            NaN              NaN   53.583333 -17.565476  34.928571   \n\n                   PRES       TEMP        Iws  precipitation     Iprec  \ndate                                                                    \n2010-01-01  1027.910714 -10.202381  43.859821       0.066667  0.786905  \n2010-01-08  1030.035714 -10.029762  45.392083       0.000000  0.000000  \n2010-01-15  1030.386905  -4.946429  17.492976       0.000000  0.000000  \n2010-01-22  1026.196429  -2.672619  54.854048       0.000000  0.000000  \n2010-01-29  1025.273810  -2.083333  26.625119       0.000000  0.000000  ",
      "text/html": "<div>\n<style scoped>\n    .dataframe tbody tr th:only-of-type {\n        vertical-align: middle;\n    }\n\n    .dataframe tbody tr th {\n        vertical-align: top;\n    }\n\n    .dataframe thead th {\n        text-align: right;\n    }\n</style>\n<table border=\"1\" class=\"dataframe\">\n  <thead>\n    <tr style=\"text-align: right;\">\n      <th></th>\n      <th>No</th>\n      <th>year</th>\n      <th>month</th>\n      <th>day</th>\n      <th>hour</th>\n      <th>season</th>\n      <th>PM_Dongsi</th>\n      <th>PM_Dongsihuan</th>\n      <th>PM_Nongzhanguan</th>\n      <th>PM_US Post</th>\n      <th>DEWP</th>\n      <th>HUMI</th>\n      <th>PRES</th>\n      <th>TEMP</th>\n      <th>Iws</th>\n      <th>precipitation</th>\n      <th>Iprec</th>\n    </tr>\n    <tr>\n      <th>date</th>\n      <th></th>\n      <th></th>\n      <th></th>\n      <th></th>\n      <th></th>\n      <th></th>\n      <th></th>\n      <th></th>\n      <th></th>\n      <th></th>\n      <th></th>\n      <th></th>\n      <th></th>\n      <th></th>\n      <th></th>\n      <th></th>\n      <th></th>\n    </tr>\n  </thead>\n  <tbody>\n    <tr>\n      <th>2010-01-01</th>\n      <td>84.5</td>\n      <td>2010.0</td>\n      <td>1.000000</td>\n      <td>4.000000</td>\n      <td>11.5</td>\n      <td>4.0</td>\n      <td>NaN</td>\n      <td>NaN</td>\n      <td>NaN</td>\n      <td>71.627586</td>\n      <td>-18.255952</td>\n      <td>54.395833</td>\n      <td>1027.910714</td>\n      <td>-10.202381</td>\n      <td>43.859821</td>\n      <td>0.066667</td>\n      <td>0.786905</td>\n    </tr>\n    <tr>\n      <th>2010-01-08</th>\n      <td>252.5</td>\n      <td>2010.0</td>\n      <td>1.000000</td>\n      <td>11.000000</td>\n      <td>11.5</td>\n      <td>4.0</td>\n      <td>NaN</td>\n      <td>NaN</td>\n      <td>NaN</td>\n      <td>69.910714</td>\n      <td>-19.035714</td>\n      <td>49.386905</td>\n      <td>1030.035714</td>\n      <td>-10.029762</td>\n      <td>45.392083</td>\n      <td>0.000000</td>\n      <td>0.000000</td>\n    </tr>\n    <tr>\n      <th>2010-01-15</th>\n      <td>420.5</td>\n      <td>2010.0</td>\n      <td>1.000000</td>\n      <td>18.000000</td>\n      <td>11.5</td>\n      <td>4.0</td>\n      <td>NaN</td>\n      <td>NaN</td>\n      <td>NaN</td>\n      <td>163.654762</td>\n      <td>-12.630952</td>\n      <td>57.755952</td>\n      <td>1030.386905</td>\n      <td>-4.946429</td>\n      <td>17.492976</td>\n      <td>0.000000</td>\n      <td>0.000000</td>\n    </tr>\n    <tr>\n      <th>2010-01-22</th>\n      <td>588.5</td>\n      <td>2010.0</td>\n      <td>1.000000</td>\n      <td>25.000000</td>\n      <td>11.5</td>\n      <td>4.0</td>\n      <td>NaN</td>\n      <td>NaN</td>\n      <td>NaN</td>\n      <td>68.069307</td>\n      <td>-17.404762</td>\n      <td>34.095238</td>\n      <td>1026.196429</td>\n      <td>-2.672619</td>\n      <td>54.854048</td>\n      <td>0.000000</td>\n      <td>0.000000</td>\n    </tr>\n    <tr>\n      <th>2010-01-29</th>\n      <td>756.5</td>\n      <td>2010.0</td>\n      <td>1.571429</td>\n      <td>14.285714</td>\n      <td>11.5</td>\n      <td>4.0</td>\n      <td>NaN</td>\n      <td>NaN</td>\n      <td>NaN</td>\n      <td>53.583333</td>\n      <td>-17.565476</td>\n      <td>34.928571</td>\n      <td>1025.273810</td>\n      <td>-2.083333</td>\n      <td>26.625119</td>\n      <td>0.000000</td>\n      <td>0.000000</td>\n    </tr>\n  </tbody>\n</table>\n</div>"
     },
     "execution_count": 79,
     "metadata": {},
     "output_type": "execute_result"
    }
   ],
   "source": [
    "# 进行降采样，进行降采样，行索引必须是pd的时间类型\n",
    "df = df.resample(\"7D\").mean(numeric_only=True)\n",
    "df.head()\n"
   ],
   "metadata": {
    "collapsed": false,
    "pycharm": {
     "name": "#%%\n"
    },
    "ExecuteTime": {
     "end_time": "2024-07-08T03:32:45.252019800Z",
     "start_time": "2024-07-08T03:32:45.195320500Z"
    }
   }
  },
  {
   "cell_type": "code",
   "execution_count": 80,
   "outputs": [
    {
     "data": {
      "text/plain": "No                 52500.500000\nyear                2015.000000\nmonth                 12.000000\nday                   28.000000\nhour                  11.500000\nseason                 4.000000\nPM_Dongsi            206.271084\nPM_Dongsihuan        219.377358\nPM_Nongzhanguan      199.566265\nPM_US Post           209.244048\nDEWP                  -8.559524\nHUMI                  70.136905\nPRES                1029.934524\nTEMP                  -3.202381\nIws                    8.713750\nprecipitation          0.000000\nIprec                  0.000000\nName: 2015-12-25 00:00:00, dtype: float64"
     },
     "execution_count": 80,
     "metadata": {},
     "output_type": "execute_result"
    }
   ],
   "source": [
    "df.iloc[312] #因为前面行没有pm2.5数据，所以取中间一行"
   ],
   "metadata": {
    "collapsed": false,
    "pycharm": {
     "name": "#%%\n"
    },
    "ExecuteTime": {
     "end_time": "2024-07-08T03:33:10.187301700Z",
     "start_time": "2024-07-08T03:33:10.126114400Z"
    }
   }
  },
  {
   "cell_type": "code",
   "execution_count": 81,
   "outputs": [
    {
     "name": "stdout",
     "output_type": "stream",
     "text": [
      "<class 'pandas.core.series.Series'>\n",
      "DatetimeIndex: 155 entries, 2013-01-11 to 2015-12-25\n",
      "Freq: 7D\n",
      "Series name: PM_US Post\n",
      "Non-Null Count  Dtype  \n",
      "--------------  -----  \n",
      "155 non-null    float64\n",
      "dtypes: float64(1)\n",
      "memory usage: 2.4 KB\n",
      "--------------------------------------------------\n",
      "date\n",
      "2013-01-11     65.333333\n",
      "2013-01-18    161.054217\n",
      "2013-01-25    224.006098\n",
      "2013-02-01     61.145570\n",
      "2013-02-08    110.478788\n",
      "                 ...    \n",
      "2014-11-07     51.617284\n",
      "2014-11-14    149.935065\n",
      "2014-11-21    142.590062\n",
      "2014-11-28     82.012346\n",
      "2014-12-05    105.767857\n",
      "Freq: 7D, Name: PM_Nongzhanguan, Length: 100, dtype: float64\n",
      "<class 'pandas.core.series.Series'>\n",
      "DatetimeIndex: 155 entries, 2013-01-11 to 2015-12-25\n",
      "Freq: 7D\n",
      "Series name: PM_Nongzhanguan\n",
      "Non-Null Count  Dtype  \n",
      "--------------  -----  \n",
      "155 non-null    float64\n",
      "dtypes: float64(1)\n",
      "memory usage: 2.4 KB\n"
     ]
    }
   ],
   "source": [
    "#对比农展馆和美国测试的数据\n",
    "df= df.loc[:,[\"PM_US Post\",\"PM_Nongzhanguan\"]]\n",
    "df=df.dropna()  #任何一列为空，整行都删掉（整行，就是整个样本）\n",
    "data=df.loc[:,\"PM_US Post\"] #美国大使馆数据\n",
    "data_china = df.loc[:,\"PM_Nongzhanguan\"]  #农展馆数据\n",
    "\n",
    "\n",
    "data.info()\n",
    "print('-'*50)\n",
    "print(data_china.head(100))\n",
    "data_china.info()"
   ],
   "metadata": {
    "collapsed": false,
    "pycharm": {
     "name": "#%%\n"
    },
    "ExecuteTime": {
     "end_time": "2024-07-08T03:34:00.676069Z",
     "start_time": "2024-07-08T03:34:00.632822Z"
    }
   }
  },
  {
   "cell_type": "code",
   "execution_count": 82,
   "outputs": [
    {
     "name": "stdout",
     "output_type": "stream",
     "text": [
      "DatetimeIndex(['2013-01-11', '2013-01-18', '2013-01-25', '2013-02-01',\n",
      "               '2013-02-08', '2013-02-15', '2013-02-22', '2013-03-01',\n",
      "               '2013-03-08', '2013-03-15',\n",
      "               ...\n",
      "               '2015-10-23', '2015-10-30', '2015-11-06', '2015-11-13',\n",
      "               '2015-11-20', '2015-11-27', '2015-12-04', '2015-12-11',\n",
      "               '2015-12-18', '2015-12-25'],\n",
      "              dtype='datetime64[ns]', name='date', length=155, freq='7D')\n",
      "--------------------------------------------------\n",
      "['20130111', '20130118', '20130125', '20130201', '20130208', '20130215', '20130222', '20130301', '20130308', '20130315', '20130322', '20130329', '20130405', '20130412', '20130419', '20130426', '20130503', '20130510', '20130517', '20130524', '20130531', '20130607', '20130614', '20130621', '20130628', '20130705', '20130712', '20130719', '20130726', '20130802', '20130809', '20130816', '20130823', '20130830', '20130906', '20130913', '20130920', '20130927', '20131004', '20131011', '20131018', '20131025', '20131101', '20131108', '20131115', '20131122', '20131129', '20131206', '20131213', '20131220', '20131227', '20140103', '20140110', '20140117', '20140124', '20140131', '20140207', '20140214', '20140221', '20140228', '20140307', '20140314', '20140321', '20140328', '20140404', '20140411', '20140418', '20140425', '20140502', '20140509', '20140516', '20140523', '20140530', '20140606', '20140613', '20140620', '20140627', '20140704', '20140711', '20140718', '20140725', '20140801', '20140808', '20140815', '20140822', '20140829', '20140905', '20140912', '20140919', '20140926', '20141003', '20141010', '20141017', '20141024', '20141031', '20141107', '20141114', '20141121', '20141128', '20141205', '20141212', '20141219', '20141226', '20150102', '20150109', '20150116', '20150123', '20150130', '20150206', '20150213', '20150220', '20150227', '20150306', '20150313', '20150320', '20150327', '20150403', '20150410', '20150417', '20150424', '20150501', '20150508', '20150515', '20150522', '20150529', '20150605', '20150612', '20150619', '20150626', '20150703', '20150710', '20150717', '20150724', '20150731', '20150807', '20150814', '20150821', '20150828', '20150904', '20150911', '20150918', '20150925', '20151002', '20151009', '20151016', '20151023', '20151030', '20151106', '20151113', '20151120', '20151127', '20151204', '20151211', '20151218', '20151225']\n",
      "155 155\n"
     ]
    }
   ],
   "source": [
    "# 画图\n",
    "_x = data.index\n",
    "print(_x)\n",
    "print('-'*50)\n",
    "_x = [i.strftime(\"%Y%m%d\") for i in _x]\n",
    "print(_x)\n",
    "_x_china = [i.strftime(\"%Y%m%d\") for i in data_china.index]\n",
    "print(len(_x), len(_x_china))"
   ],
   "metadata": {
    "collapsed": false,
    "pycharm": {
     "name": "#%%\n"
    },
    "ExecuteTime": {
     "end_time": "2024-07-08T03:34:21.968151100Z",
     "start_time": "2024-07-08T03:34:21.927075400Z"
    }
   }
  },
  {
   "cell_type": "code",
   "execution_count": 85,
   "outputs": [
    {
     "data": {
      "text/plain": "<Figure size 1600x640 with 1 Axes>",
      "image/png": "[encoded data removed]"
     },
     "metadata": {},
     "output_type": "display_data"
    }
   ],
   "source": [
    "import matplotlib.pyplot as plt\n",
    "_y = data.values  #美国的\n",
    "_y_china = data_china.values  #农展馆\n",
    "\n",
    "plt.figure(figsize=(20, 8), dpi=80)\n",
    "\n",
    "plt.plot(range(len(_x)), _y, label=\"US_POST\", alpha=0.7)\n",
    "plt.plot(range(len(_x_china)), _y_china, label=\"CN_POST\", alpha=0.7)\n",
    "\n",
    "#第一个参数是刻度值，\n",
    "plt.xticks(range(0, len(_x_china), 5), _x_china[::5], rotation=45)\n",
    "plt.grid(alpha=0.5)\n",
    "plt.legend(loc=\"best\")\n",
    "\n",
    "plt.show()"
   ],
   "metadata": {
    "collapsed": false,
    "pycharm": {
     "name": "#%%\n"
    },
    "ExecuteTime": {
     "end_time": "2024-07-08T03:35:28.256415100Z",
     "start_time": "2024-07-08T03:35:27.538293900Z"
    }
   }
  },
  {
   "cell_type": "markdown",
   "source": [
    "### 分组运算"
   ],
   "metadata": {
    "collapsed": false
   }
  },
  {
   "cell_type": "code",
   "execution_count": 90,
   "outputs": [
    {
     "name": "stdout",
     "output_type": "stream",
     "text": [
      "  key1  data1  data2\n",
      "0    a      6      4\n",
      "1    b      2      9\n",
      "2    a      1      2\n",
      "3    b      2      2\n",
      "4    a      4      4\n",
      "5    b      3      8\n",
      "6    a      2      3\n",
      "7    a      2      6\n",
      "--------------------------------------------------\n"
     ]
    }
   ],
   "source": [
    "import numpy as np\n",
    "#分组后给名称加前缀\n",
    "dict_obj = {'key1' : ['a', 'b', 'a', 'b',\n",
    "                      'a', 'b', 'a', 'a'],\n",
    "            'data1': np.random.randint(1, 10, 8),\n",
    "            'data2': np.random.randint(1, 10, 8)}\n",
    "df_obj = pd.DataFrame(dict_obj)\n",
    "print(df_obj)\n",
    "print('-'*50)\n"
   ],
   "metadata": {
    "collapsed": false,
    "pycharm": {
     "name": "#%%\n"
    },
    "ExecuteTime": {
     "end_time": "2024-07-08T03:39:52.573272800Z",
     "start_time": "2024-07-08T03:39:52.560639400Z"
    }
   }
  },
  {
   "cell_type": "code",
   "execution_count": 91,
   "outputs": [
    {
     "name": "stdout",
     "output_type": "stream",
     "text": [
      "      mean_data1  mean_data2\n",
      "key1                        \n",
      "a       3.000000    3.800000\n",
      "b       2.333333    6.333333\n"
     ]
    }
   ],
   "source": [
    "# 按key1分组后，计算data1，data2的统计信息并附加到原始表格中，并添加表头前缀\n",
    "k1_sum = df_obj.groupby('key1').mean(numeric_only=True).add_prefix('mean_')\n",
    "print(k1_sum)"
   ],
   "metadata": {
    "collapsed": false,
    "ExecuteTime": {
     "end_time": "2024-07-08T03:39:54.902782200Z",
     "start_time": "2024-07-08T03:39:54.832325200Z"
    }
   }
  },
  {
   "cell_type": "code",
   "execution_count": 95,
   "outputs": [
    {
     "data": {
      "text/plain": "   mean_data1  mean_data2\n0    3.000000    3.800000\n1    2.333333    6.333333\n2    3.000000    3.800000\n3    2.333333    6.333333\n4    3.000000    3.800000\n5    2.333333    6.333333\n6    3.000000    3.800000\n7    3.000000    3.800000",
      "text/html": "<div>\n<style scoped>\n    .dataframe tbody tr th:only-of-type {\n        vertical-align: middle;\n    }\n\n    .dataframe tbody tr th {\n        vertical-align: top;\n    }\n\n    .dataframe thead th {\n        text-align: right;\n    }\n</style>\n<table border=\"1\" class=\"dataframe\">\n  <thead>\n    <tr style=\"text-align: right;\">\n      <th></th>\n      <th>mean_data1</th>\n      <th>mean_data2</th>\n    </tr>\n  </thead>\n  <tbody>\n    <tr>\n      <th>0</th>\n      <td>3.000000</td>\n      <td>3.800000</td>\n    </tr>\n    <tr>\n      <th>1</th>\n      <td>2.333333</td>\n      <td>6.333333</td>\n    </tr>\n    <tr>\n      <th>2</th>\n      <td>3.000000</td>\n      <td>3.800000</td>\n    </tr>\n    <tr>\n      <th>3</th>\n      <td>2.333333</td>\n      <td>6.333333</td>\n    </tr>\n    <tr>\n      <th>4</th>\n      <td>3.000000</td>\n      <td>3.800000</td>\n    </tr>\n    <tr>\n      <th>5</th>\n      <td>2.333333</td>\n      <td>6.333333</td>\n    </tr>\n    <tr>\n      <th>6</th>\n      <td>3.000000</td>\n      <td>3.800000</td>\n    </tr>\n    <tr>\n      <th>7</th>\n      <td>3.000000</td>\n      <td>3.800000</td>\n    </tr>\n  </tbody>\n</table>\n</div>"
     },
     "execution_count": 95,
     "metadata": {},
     "output_type": "execute_result"
    }
   ],
   "source": [
    "# 方法2，使用transform，分组后计算结果和原本的df保持一致\n",
    "k1_sum_tf = df_obj.groupby('key1').transform('mean').add_prefix('mean_')\n",
    "k1_sum_tf\n",
    "# df_obj[k1_sum_tf.columns] = k1_sum_tf\n",
    "# print(df_obj)"
   ],
   "metadata": {
    "collapsed": false,
    "pycharm": {
     "name": "#%%\n"
    },
    "ExecuteTime": {
     "end_time": "2024-07-08T03:41:01.550373300Z",
     "start_time": "2024-07-08T03:41:01.509427300Z"
    }
   }
  },
  {
   "cell_type": "code",
   "execution_count": 96,
   "outputs": [
    {
     "data": {
      "text/plain": "      data1     data2\n0  3.000000  0.200000\n1 -0.333333  2.666667\n2 -2.000000 -1.800000\n3 -0.333333 -4.333333\n4  1.000000  0.200000\n5  0.666667  1.666667\n6 -1.000000 -0.800000\n7 -1.000000  2.200000",
      "text/html": "<div>\n<style scoped>\n    .dataframe tbody tr th:only-of-type {\n        vertical-align: middle;\n    }\n\n    .dataframe tbody tr th {\n        vertical-align: top;\n    }\n\n    .dataframe thead th {\n        text-align: right;\n    }\n</style>\n<table border=\"1\" class=\"dataframe\">\n  <thead>\n    <tr style=\"text-align: right;\">\n      <th></th>\n      <th>data1</th>\n      <th>data2</th>\n    </tr>\n  </thead>\n  <tbody>\n    <tr>\n      <th>0</th>\n      <td>3.000000</td>\n      <td>0.200000</td>\n    </tr>\n    <tr>\n      <th>1</th>\n      <td>-0.333333</td>\n      <td>2.666667</td>\n    </tr>\n    <tr>\n      <th>2</th>\n      <td>-2.000000</td>\n      <td>-1.800000</td>\n    </tr>\n    <tr>\n      <th>3</th>\n      <td>-0.333333</td>\n      <td>-4.333333</td>\n    </tr>\n    <tr>\n      <th>4</th>\n      <td>1.000000</td>\n      <td>0.200000</td>\n    </tr>\n    <tr>\n      <th>5</th>\n      <td>0.666667</td>\n      <td>1.666667</td>\n    </tr>\n    <tr>\n      <th>6</th>\n      <td>-1.000000</td>\n      <td>-0.800000</td>\n    </tr>\n    <tr>\n      <th>7</th>\n      <td>-1.000000</td>\n      <td>2.200000</td>\n    </tr>\n  </tbody>\n</table>\n</div>"
     },
     "execution_count": 96,
     "metadata": {},
     "output_type": "execute_result"
    }
   ],
   "source": [
    "#实现a组和b组，谁比平均分高，谁比平均分低\n",
    "def diff_mean(s):\n",
    "    \"\"\"\n",
    "        返回数据与均值的差值，s传入的是某一个分组\n",
    "    \"\"\"\n",
    "    return s - s.mean()\n",
    "\n",
    "df_obj.groupby('key1').transform(diff_mean)"
   ],
   "metadata": {
    "collapsed": false,
    "pycharm": {
     "name": "#%%\n"
    },
    "ExecuteTime": {
     "end_time": "2024-07-08T06:33:52.548533600Z",
     "start_time": "2024-07-08T06:33:52.509250400Z"
    }
   }
  },
  {
   "cell_type": "markdown",
   "source": [
    "# 星际争霸--练习groupby的apply操作"
   ],
   "metadata": {
    "collapsed": false
   }
  },
  {
   "cell_type": "code",
   "execution_count": 97,
   "outputs": [
    {
     "data": {
      "text/plain": "      LeagueIndex   Age  HoursPerWeek  TotalHours       APM\n0               5  27.0          10.0      3000.0  143.7180\n1               5  23.0          10.0      5000.0  129.2322\n2               4  30.0          10.0       200.0   69.9612\n3               3  19.0          20.0       400.0  107.6016\n4               3  32.0          10.0       500.0  122.8908\n...           ...   ...           ...         ...       ...\n3390            8   NaN           NaN         NaN  259.6296\n3391            8   NaN           NaN         NaN  314.6700\n3392            8   NaN           NaN         NaN  299.4282\n3393            8   NaN           NaN         NaN  375.8664\n3394            8   NaN           NaN         NaN  348.3576\n\n[3395 rows x 5 columns]",
      "text/html": "<div>\n<style scoped>\n    .dataframe tbody tr th:only-of-type {\n        vertical-align: middle;\n    }\n\n    .dataframe tbody tr th {\n        vertical-align: top;\n    }\n\n    .dataframe thead th {\n        text-align: right;\n    }\n</style>\n<table border=\"1\" class=\"dataframe\">\n  <thead>\n    <tr style=\"text-align: right;\">\n      <th></th>\n      <th>LeagueIndex</th>\n      <th>Age</th>\n      <th>HoursPerWeek</th>\n      <th>TotalHours</th>\n      <th>APM</th>\n    </tr>\n  </thead>\n  <tbody>\n    <tr>\n      <th>0</th>\n      <td>5</td>\n      <td>27.0</td>\n      <td>10.0</td>\n      <td>3000.0</td>\n      <td>143.7180</td>\n    </tr>\n    <tr>\n      <th>1</th>\n      <td>5</td>\n      <td>23.0</td>\n      <td>10.0</td>\n      <td>5000.0</td>\n      <td>129.2322</td>\n    </tr>\n    <tr>\n      <th>2</th>\n      <td>4</td>\n      <td>30.0</td>\n      <td>10.0</td>\n      <td>200.0</td>\n      <td>69.9612</td>\n    </tr>\n    <tr>\n      <th>3</th>\n      <td>3</td>\n      <td>19.0</td>\n      <td>20.0</td>\n      <td>400.0</td>\n      <td>107.6016</td>\n    </tr>\n    <tr>\n      <th>4</th>\n      <td>3</td>\n      <td>32.0</td>\n      <td>10.0</td>\n      <td>500.0</td>\n      <td>122.8908</td>\n    </tr>\n    <tr>\n      <th>...</th>\n      <td>...</td>\n      <td>...</td>\n      <td>...</td>\n      <td>...</td>\n      <td>...</td>\n    </tr>\n    <tr>\n      <th>3390</th>\n      <td>8</td>\n      <td>NaN</td>\n      <td>NaN</td>\n      <td>NaN</td>\n      <td>259.6296</td>\n    </tr>\n    <tr>\n      <th>3391</th>\n      <td>8</td>\n      <td>NaN</td>\n      <td>NaN</td>\n      <td>NaN</td>\n      <td>314.6700</td>\n    </tr>\n    <tr>\n      <th>3392</th>\n      <td>8</td>\n      <td>NaN</td>\n      <td>NaN</td>\n      <td>NaN</td>\n      <td>299.4282</td>\n    </tr>\n    <tr>\n      <th>3393</th>\n      <td>8</td>\n      <td>NaN</td>\n      <td>NaN</td>\n      <td>NaN</td>\n      <td>375.8664</td>\n    </tr>\n    <tr>\n      <th>3394</th>\n      <td>8</td>\n      <td>NaN</td>\n      <td>NaN</td>\n      <td>NaN</td>\n      <td>348.3576</td>\n    </tr>\n  </tbody>\n</table>\n<p>3395 rows × 5 columns</p>\n</div>"
     },
     "execution_count": 97,
     "metadata": {},
     "output_type": "execute_result"
    }
   ],
   "source": [
    "import pandas as pd\n",
    "dataset_path = './starcraft.csv'\n",
    "df_data = pd.read_csv(dataset_path, usecols=['LeagueIndex', 'Age', 'HoursPerWeek',\n",
    "                                             'TotalHours', 'APM'])\n",
    "df_data"
   ],
   "metadata": {
    "collapsed": false,
    "pycharm": {
     "name": "#%%\n"
    },
    "ExecuteTime": {
     "end_time": "2024-07-08T06:36:04.890546900Z",
     "start_time": "2024-07-08T06:36:04.847773600Z"
    }
   }
  },
  {
   "cell_type": "code",
   "execution_count": 102,
   "outputs": [
    {
     "name": "stdout",
     "output_type": "stream",
     "text": [
      "                   Age  HoursPerWeek  TotalHours       APM\n",
      "LeagueIndex                                               \n",
      "1           2214  20.0          12.0       730.0  172.9530\n",
      "            2246  27.0           8.0       250.0  141.6282\n",
      "            1753  20.0          28.0       100.0  139.6362\n",
      "2           3062  20.0           6.0       100.0  179.6250\n",
      "            3229  16.0          24.0       110.0  156.7380\n",
      "            1520  29.0           6.0       250.0  151.6470\n",
      "3           1557  22.0           6.0       200.0  226.6554\n",
      "            484   19.0          42.0       450.0  220.0692\n",
      "            2883  16.0           8.0       800.0  208.9500\n",
      "4           2688  26.0          24.0       990.0  249.0210\n",
      "            1759  16.0           6.0        75.0  229.9122\n",
      "            2637  23.0          24.0       650.0  227.2272\n",
      "5           3277  18.0          16.0       950.0  372.6426\n",
      "            93    17.0          36.0       720.0  335.4990\n",
      "            202   37.0          14.0       800.0  327.7218\n",
      "6           734   16.0          28.0       730.0  389.8314\n",
      "            2746  16.0          28.0      4000.0  350.4114\n",
      "            1810  21.0          14.0       730.0  323.2506\n",
      "7           3127  23.0          42.0      2000.0  298.7952\n",
      "            104   21.0          24.0      1000.0  286.4538\n",
      "            1654  18.0          98.0       700.0  236.0316\n",
      "8           3393   NaN           NaN         NaN  375.8664\n",
      "            3373   NaN           NaN         NaN  364.8504\n",
      "            3372   NaN           NaN         NaN  355.3518\n"
     ]
    }
   ],
   "source": [
    "#apply比agg厉害的地方在于传参数\n",
    "def top_n(df, n=3, column='APM'):\n",
    "    \"\"\"\n",
    "        df是代表某个分组的数据，返回每个分组按 column 的 top n 数据\n",
    "    \"\"\"\n",
    "    return df.sort_values(by=column, ascending=False)[:n]\n",
    "\n",
    "print(df_data.groupby('LeagueIndex').apply(top_n,include_groups=False))"
   ],
   "metadata": {
    "collapsed": false,
    "pycharm": {
     "name": "#%%\n"
    },
    "ExecuteTime": {
     "end_time": "2024-07-08T06:40:14.476588600Z",
     "start_time": "2024-07-08T06:40:14.427552700Z"
    }
   }
  },
  {
   "cell_type": "code",
   "execution_count": 105,
   "outputs": [
    {
     "data": {
      "text/plain": "                   Age  HoursPerWeek  TotalHours       APM\nLeagueIndex                                               \n1           3146  40.0          12.0       150.0   38.5590\n            3040  39.0          10.0       500.0   29.8764\n            721   38.0          16.0       300.0   71.5950\n            3298  37.0          12.0       300.0   22.0596\n2           920   43.0          10.0       730.0   86.0586\n            2437  41.0           4.0       200.0   54.2166\n            1175  41.0           8.0       250.0   54.2406\n            479   40.0          14.0       500.0   51.8358\n3           1258  41.0          14.0       800.0   77.6472\n            2972  40.0          10.0       500.0   60.5970\n            3176  40.0          16.0       580.0   46.8714\n            2882  39.0          12.0       450.0   53.7690\n4           1696  44.0           6.0       500.0   89.5266\n            1729  39.0           8.0       500.0   86.7246\n            1298  36.0          10.0       400.0   73.6980\n            1106  35.0          16.0       800.0  107.0412\n5           202   37.0          14.0       800.0  327.7218\n            2745  37.0          18.0      1000.0  123.4098\n            653   35.0          12.0       800.0  115.0644\n            3310  34.0           4.0       364.0   77.5512\n6           3069  31.0           8.0       800.0  133.1790\n            2706  31.0           8.0       700.0   66.9918\n            929   30.0          28.0      1500.0  123.3774\n            1240  29.0          20.0       800.0  141.6246\n7           2813  26.0          36.0      1300.0  188.5512\n            1992  26.0          24.0      1000.0  219.6690\n            1073  25.0          10.0       900.0  178.8342\n            320   25.0          42.0      2400.0  182.6208\n8           3340   NaN           NaN         NaN  189.7404\n            3341   NaN           NaN         NaN  287.8128\n            3342   NaN           NaN         NaN  294.0996\n            3343   NaN           NaN         NaN  274.2552",
      "text/html": "<div>\n<style scoped>\n    .dataframe tbody tr th:only-of-type {\n        vertical-align: middle;\n    }\n\n    .dataframe tbody tr th {\n        vertical-align: top;\n    }\n\n    .dataframe thead th {\n        text-align: right;\n    }\n</style>\n<table border=\"1\" class=\"dataframe\">\n  <thead>\n    <tr style=\"text-align: right;\">\n      <th></th>\n      <th></th>\n      <th>Age</th>\n      <th>HoursPerWeek</th>\n      <th>TotalHours</th>\n      <th>APM</th>\n    </tr>\n    <tr>\n      <th>LeagueIndex</th>\n      <th></th>\n      <th></th>\n      <th></th>\n      <th></th>\n      <th></th>\n    </tr>\n  </thead>\n  <tbody>\n    <tr>\n      <th rowspan=\"4\" valign=\"top\">1</th>\n      <th>3146</th>\n      <td>40.0</td>\n      <td>12.0</td>\n      <td>150.0</td>\n      <td>38.5590</td>\n    </tr>\n    <tr>\n      <th>3040</th>\n      <td>39.0</td>\n      <td>10.0</td>\n      <td>500.0</td>\n      <td>29.8764</td>\n    </tr>\n    <tr>\n      <th>721</th>\n      <td>38.0</td>\n      <td>16.0</td>\n      <td>300.0</td>\n      <td>71.5950</td>\n    </tr>\n    <tr>\n      <th>3298</th>\n      <td>37.0</td>\n      <td>12.0</td>\n      <td>300.0</td>\n      <td>22.0596</td>\n    </tr>\n    <tr>\n      <th rowspan=\"4\" valign=\"top\">2</th>\n      <th>920</th>\n      <td>43.0</td>\n      <td>10.0</td>\n      <td>730.0</td>\n      <td>86.0586</td>\n    </tr>\n    <tr>\n      <th>2437</th>\n      <td>41.0</td>\n      <td>4.0</td>\n      <td>200.0</td>\n      <td>54.2166</td>\n    </tr>\n    <tr>\n      <th>1175</th>\n      <td>41.0</td>\n      <td>8.0</td>\n      <td>250.0</td>\n      <td>54.2406</td>\n    </tr>\n    <tr>\n      <th>479</th>\n      <td>40.0</td>\n      <td>14.0</td>\n      <td>500.0</td>\n      <td>51.8358</td>\n    </tr>\n    <tr>\n      <th rowspan=\"4\" valign=\"top\">3</th>\n      <th>1258</th>\n      <td>41.0</td>\n      <td>14.0</td>\n      <td>800.0</td>\n      <td>77.6472</td>\n    </tr>\n    <tr>\n      <th>2972</th>\n      <td>40.0</td>\n      <td>10.0</td>\n      <td>500.0</td>\n      <td>60.5970</td>\n    </tr>\n    <tr>\n      <th>3176</th>\n      <td>40.0</td>\n      <td>16.0</td>\n      <td>580.0</td>\n      <td>46.8714</td>\n    </tr>\n    <tr>\n      <th>2882</th>\n      <td>39.0</td>\n      <td>12.0</td>\n      <td>450.0</td>\n      <td>53.7690</td>\n    </tr>\n    <tr>\n      <th rowspan=\"4\" valign=\"top\">4</th>\n      <th>1696</th>\n      <td>44.0</td>\n      <td>6.0</td>\n      <td>500.0</td>\n      <td>89.5266</td>\n    </tr>\n    <tr>\n      <th>1729</th>\n      <td>39.0</td>\n      <td>8.0</td>\n      <td>500.0</td>\n      <td>86.7246</td>\n    </tr>\n    <tr>\n      <th>1298</th>\n      <td>36.0</td>\n      <td>10.0</td>\n      <td>400.0</td>\n      <td>73.6980</td>\n    </tr>\n    <tr>\n      <th>1106</th>\n      <td>35.0</td>\n      <td>16.0</td>\n      <td>800.0</td>\n      <td>107.0412</td>\n    </tr>\n    <tr>\n      <th rowspan=\"4\" valign=\"top\">5</th>\n      <th>202</th>\n      <td>37.0</td>\n      <td>14.0</td>\n      <td>800.0</td>\n      <td>327.7218</td>\n    </tr>\n    <tr>\n      <th>2745</th>\n      <td>37.0</td>\n      <td>18.0</td>\n      <td>1000.0</td>\n      <td>123.4098</td>\n    </tr>\n    <tr>\n      <th>653</th>\n      <td>35.0</td>\n      <td>12.0</td>\n      <td>800.0</td>\n      <td>115.0644</td>\n    </tr>\n    <tr>\n      <th>3310</th>\n      <td>34.0</td>\n      <td>4.0</td>\n      <td>364.0</td>\n      <td>77.5512</td>\n    </tr>\n    <tr>\n      <th rowspan=\"4\" valign=\"top\">6</th>\n      <th>3069</th>\n      <td>31.0</td>\n      <td>8.0</td>\n      <td>800.0</td>\n      <td>133.1790</td>\n    </tr>\n    <tr>\n      <th>2706</th>\n      <td>31.0</td>\n      <td>8.0</td>\n      <td>700.0</td>\n      <td>66.9918</td>\n    </tr>\n    <tr>\n      <th>929</th>\n      <td>30.0</td>\n      <td>28.0</td>\n      <td>1500.0</td>\n      <td>123.3774</td>\n    </tr>\n    <tr>\n      <th>1240</th>\n      <td>29.0</td>\n      <td>20.0</td>\n      <td>800.0</td>\n      <td>141.6246</td>\n    </tr>\n    <tr>\n      <th rowspan=\"4\" valign=\"top\">7</th>\n      <th>2813</th>\n      <td>26.0</td>\n      <td>36.0</td>\n      <td>1300.0</td>\n      <td>188.5512</td>\n    </tr>\n    <tr>\n      <th>1992</th>\n      <td>26.0</td>\n      <td>24.0</td>\n      <td>1000.0</td>\n      <td>219.6690</td>\n    </tr>\n    <tr>\n      <th>1073</th>\n      <td>25.0</td>\n      <td>10.0</td>\n      <td>900.0</td>\n      <td>178.8342</td>\n    </tr>\n    <tr>\n      <th>320</th>\n      <td>25.0</td>\n      <td>42.0</td>\n      <td>2400.0</td>\n      <td>182.6208</td>\n    </tr>\n    <tr>\n      <th rowspan=\"4\" valign=\"top\">8</th>\n      <th>3340</th>\n      <td>NaN</td>\n      <td>NaN</td>\n      <td>NaN</td>\n      <td>189.7404</td>\n    </tr>\n    <tr>\n      <th>3341</th>\n      <td>NaN</td>\n      <td>NaN</td>\n      <td>NaN</td>\n      <td>287.8128</td>\n    </tr>\n    <tr>\n      <th>3342</th>\n      <td>NaN</td>\n      <td>NaN</td>\n      <td>NaN</td>\n      <td>294.0996</td>\n    </tr>\n    <tr>\n      <th>3343</th>\n      <td>NaN</td>\n      <td>NaN</td>\n      <td>NaN</td>\n      <td>274.2552</td>\n    </tr>\n  </tbody>\n</table>\n</div>"
     },
     "execution_count": 105,
     "metadata": {},
     "output_type": "execute_result"
    }
   ],
   "source": [
    "# apply函数接收的参数会传入自定义的函数中\n",
    "m=df_data.groupby('LeagueIndex').apply(top_n, n=4, column='Age',include_groups=False)\n",
    "m"
   ],
   "metadata": {
    "collapsed": false,
    "pycharm": {
     "name": "#%%\n"
    },
    "ExecuteTime": {
     "end_time": "2024-07-08T06:41:13.519551Z",
     "start_time": "2024-07-08T06:41:13.444354900Z"
    }
   }
  },
  {
   "cell_type": "code",
   "execution_count": 108,
   "outputs": [
    {
     "name": "stderr",
     "output_type": "stream",
     "text": [
      "C:\\Users\\Administrator\\AppData\\Local\\Temp\\ipykernel_7420\\4153032033.py:2: DeprecationWarning: DataFrameGroupBy.apply operated on the grouping columns. This behavior is deprecated, and in a future version of pandas the grouping columns will be excluded from the operation. Either pass `include_groups=False` to exclude the groupings or explicitly select the grouping columns after groupby to silence this warning.\n",
      "  n=df_data.groupby('LeagueIndex', group_keys=False).apply(top_n,include_groups=True)\n"
     ]
    },
    {
     "data": {
      "text/plain": "      LeagueIndex   Age  HoursPerWeek  TotalHours       APM\n2214            1  20.0          12.0       730.0  172.9530\n2246            1  27.0           8.0       250.0  141.6282\n1753            1  20.0          28.0       100.0  139.6362\n3062            2  20.0           6.0       100.0  179.6250\n3229            2  16.0          24.0       110.0  156.7380\n1520            2  29.0           6.0       250.0  151.6470\n1557            3  22.0           6.0       200.0  226.6554\n484             3  19.0          42.0       450.0  220.0692\n2883            3  16.0           8.0       800.0  208.9500\n2688            4  26.0          24.0       990.0  249.0210\n1759            4  16.0           6.0        75.0  229.9122\n2637            4  23.0          24.0       650.0  227.2272\n3277            5  18.0          16.0       950.0  372.6426\n93              5  17.0          36.0       720.0  335.4990\n202             5  37.0          14.0       800.0  327.7218\n734             6  16.0          28.0       730.0  389.8314\n2746            6  16.0          28.0      4000.0  350.4114\n1810            6  21.0          14.0       730.0  323.2506\n3127            7  23.0          42.0      2000.0  298.7952\n104             7  21.0          24.0      1000.0  286.4538\n1654            7  18.0          98.0       700.0  236.0316\n3393            8   NaN           NaN         NaN  375.8664\n3373            8   NaN           NaN         NaN  364.8504\n3372            8   NaN           NaN         NaN  355.3518",
      "text/html": "<div>\n<style scoped>\n    .dataframe tbody tr th:only-of-type {\n        vertical-align: middle;\n    }\n\n    .dataframe tbody tr th {\n        vertical-align: top;\n    }\n\n    .dataframe thead th {\n        text-align: right;\n    }\n</style>\n<table border=\"1\" class=\"dataframe\">\n  <thead>\n    <tr style=\"text-align: right;\">\n      <th></th>\n      <th>LeagueIndex</th>\n      <th>Age</th>\n      <th>HoursPerWeek</th>\n      <th>TotalHours</th>\n      <th>APM</th>\n    </tr>\n  </thead>\n  <tbody>\n    <tr>\n      <th>2214</th>\n      <td>1</td>\n      <td>20.0</td>\n      <td>12.0</td>\n      <td>730.0</td>\n      <td>172.9530</td>\n    </tr>\n    <tr>\n      <th>2246</th>\n      <td>1</td>\n      <td>27.0</td>\n      <td>8.0</td>\n      <td>250.0</td>\n      <td>141.6282</td>\n    </tr>\n    <tr>\n      <th>1753</th>\n      <td>1</td>\n      <td>20.0</td>\n      <td>28.0</td>\n      <td>100.0</td>\n      <td>139.6362</td>\n    </tr>\n    <tr>\n      <th>3062</th>\n      <td>2</td>\n      <td>20.0</td>\n      <td>6.0</td>\n      <td>100.0</td>\n      <td>179.6250</td>\n    </tr>\n    <tr>\n      <th>3229</th>\n      <td>2</td>\n      <td>16.0</td>\n      <td>24.0</td>\n      <td>110.0</td>\n      <td>156.7380</td>\n    </tr>\n    <tr>\n      <th>1520</th>\n      <td>2</td>\n      <td>29.0</td>\n      <td>6.0</td>\n      <td>250.0</td>\n      <td>151.6470</td>\n    </tr>\n    <tr>\n      <th>1557</th>\n      <td>3</td>\n      <td>22.0</td>\n      <td>6.0</td>\n      <td>200.0</td>\n      <td>226.6554</td>\n    </tr>\n    <tr>\n      <th>484</th>\n      <td>3</td>\n      <td>19.0</td>\n      <td>42.0</td>\n      <td>450.0</td>\n      <td>220.0692</td>\n    </tr>\n    <tr>\n      <th>2883</th>\n      <td>3</td>\n      <td>16.0</td>\n      <td>8.0</td>\n      <td>800.0</td>\n      <td>208.9500</td>\n    </tr>\n    <tr>\n      <th>2688</th>\n      <td>4</td>\n      <td>26.0</td>\n      <td>24.0</td>\n      <td>990.0</td>\n      <td>249.0210</td>\n    </tr>\n    <tr>\n      <th>1759</th>\n      <td>4</td>\n      <td>16.0</td>\n      <td>6.0</td>\n      <td>75.0</td>\n      <td>229.9122</td>\n    </tr>\n    <tr>\n      <th>2637</th>\n      <td>4</td>\n      <td>23.0</td>\n      <td>24.0</td>\n      <td>650.0</td>\n      <td>227.2272</td>\n    </tr>\n    <tr>\n      <th>3277</th>\n      <td>5</td>\n      <td>18.0</td>\n      <td>16.0</td>\n      <td>950.0</td>\n      <td>372.6426</td>\n    </tr>\n    <tr>\n      <th>93</th>\n      <td>5</td>\n      <td>17.0</td>\n      <td>36.0</td>\n      <td>720.0</td>\n      <td>335.4990</td>\n    </tr>\n    <tr>\n      <th>202</th>\n      <td>5</td>\n      <td>37.0</td>\n      <td>14.0</td>\n      <td>800.0</td>\n      <td>327.7218</td>\n    </tr>\n    <tr>\n      <th>734</th>\n      <td>6</td>\n      <td>16.0</td>\n      <td>28.0</td>\n      <td>730.0</td>\n      <td>389.8314</td>\n    </tr>\n    <tr>\n      <th>2746</th>\n      <td>6</td>\n      <td>16.0</td>\n      <td>28.0</td>\n      <td>4000.0</td>\n      <td>350.4114</td>\n    </tr>\n    <tr>\n      <th>1810</th>\n      <td>6</td>\n      <td>21.0</td>\n      <td>14.0</td>\n      <td>730.0</td>\n      <td>323.2506</td>\n    </tr>\n    <tr>\n      <th>3127</th>\n      <td>7</td>\n      <td>23.0</td>\n      <td>42.0</td>\n      <td>2000.0</td>\n      <td>298.7952</td>\n    </tr>\n    <tr>\n      <th>104</th>\n      <td>7</td>\n      <td>21.0</td>\n      <td>24.0</td>\n      <td>1000.0</td>\n      <td>286.4538</td>\n    </tr>\n    <tr>\n      <th>1654</th>\n      <td>7</td>\n      <td>18.0</td>\n      <td>98.0</td>\n      <td>700.0</td>\n      <td>236.0316</td>\n    </tr>\n    <tr>\n      <th>3393</th>\n      <td>8</td>\n      <td>NaN</td>\n      <td>NaN</td>\n      <td>NaN</td>\n      <td>375.8664</td>\n    </tr>\n    <tr>\n      <th>3373</th>\n      <td>8</td>\n      <td>NaN</td>\n      <td>NaN</td>\n      <td>NaN</td>\n      <td>364.8504</td>\n    </tr>\n    <tr>\n      <th>3372</th>\n      <td>8</td>\n      <td>NaN</td>\n      <td>NaN</td>\n      <td>NaN</td>\n      <td>355.3518</td>\n    </tr>\n  </tbody>\n</table>\n</div>"
     },
     "execution_count": 108,
     "metadata": {},
     "output_type": "execute_result"
    }
   ],
   "source": [
    "# group_keys为False后，被groupby的列不会变为索引\n",
    "n=df_data.groupby('LeagueIndex', group_keys=False).apply(top_n,include_groups=True)\n",
    "n"
   ],
   "metadata": {
    "collapsed": false,
    "pycharm": {
     "name": "#%%\n"
    },
    "ExecuteTime": {
     "end_time": "2024-07-08T06:42:25.251020800Z",
     "start_time": "2024-07-08T06:42:25.167080300Z"
    }
   }
  },
  {
   "cell_type": "markdown",
   "source": [],
   "metadata": {
    "collapsed": false
   }
  }
 ],
 "metadata": {
  "kernelspec": {
   "display_name": "Python 3",
   "language": "python",
   "name": "python3"
  },
  "language_info": {
   "codemirror_mode": {
    "name": "ipython",
    "version": 2
   },
   "file_extension": ".py",
   "mimetype": "text/x-python",
   "name": "python",
   "nbconvert_exporter": "python",
   "pygments_lexer": "ipython2",
   "version": "2.7.6"
  }
 },
 "nbformat": 4,
 "nbformat_minor": 0
}
