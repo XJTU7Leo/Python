{
 "cells": [
  {
   "cell_type": "code",
   "execution_count": 1,
   "id": "52c63f4f-d03e-4ecd-942c-c6cfe9ba2a0c",
   "metadata": {},
   "outputs": [
    {
     "data": {
      "text/plain": [
       "7"
      ]
     },
     "execution_count": 1,
     "metadata": {},
     "output_type": "execute_result"
    }
   ],
   "source": [
    "3+4"
   ]
  },
  {
   "cell_type": "code",
   "execution_count": 2,
   "id": "c2231c86-3506-482a-8eec-d9ec9b12b867",
   "metadata": {},
   "outputs": [],
   "source": [
    "a=6\n",
    "a=a+2"
   ]
  },
  {
   "cell_type": "code",
   "execution_count": 3,
   "id": "a6092f22-a0ac-4884-a68c-32b745ccb838",
   "metadata": {},
   "outputs": [
    {
     "data": {
      "text/plain": [
       "10"
      ]
     },
     "execution_count": 3,
     "metadata": {},
     "output_type": "execute_result"
    }
   ],
   "source": [
    "9+1"
   ]
  },
  {
   "cell_type": "code",
   "execution_count": 4,
   "id": "062fb51d-dc2e-4b03-ad1b-12c1170968c9",
   "metadata": {},
   "outputs": [
    {
     "data": {
      "text/plain": [
       "8"
      ]
     },
     "execution_count": 4,
     "metadata": {},
     "output_type": "execute_result"
    }
   ],
   "source": [
    "a"
   ]
  }
 ],
 "metadata": {
  "kernelspec": {
   "display_name": "Python 3 (ipykernel)",
   "language": "python",
   "name": "python3"
  },
  "language_info": {
   "codemirror_mode": {
    "name": "ipython",
    "version": 3
   },
   "file_extension": ".py",
   "mimetype": "text/x-python",
   "name": "python",
   "nbconvert_exporter": "python",
   "pygments_lexer": "ipython3",
   "version": "3.12.3"
  }
 },
 "nbformat": 4,
 "nbformat_minor": 5
}
